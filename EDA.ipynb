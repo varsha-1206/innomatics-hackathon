{
 "cells": [
  {
   "cell_type": "code",
   "execution_count": 1,
   "id": "45c462d3-5739-42b3-9f36-9c1fb81989e8",
   "metadata": {},
   "outputs": [
    {
     "name": "stdout",
     "output_type": "stream",
     "text": [
      "Requirement already satisfied: folium in c:\\users\\hp\\appdata\\local\\programs\\python\\python312\\lib\\site-packages (0.19.5)\n",
      "Requirement already satisfied: branca>=0.6.0 in c:\\users\\hp\\appdata\\local\\programs\\python\\python312\\lib\\site-packages (from folium) (0.8.1)\n",
      "Requirement already satisfied: jinja2>=2.9 in c:\\users\\hp\\appdata\\local\\programs\\python\\python312\\lib\\site-packages (from folium) (3.1.3)\n",
      "Requirement already satisfied: numpy in c:\\users\\hp\\appdata\\local\\programs\\python\\python312\\lib\\site-packages (from folium) (1.26.3)\n",
      "Requirement already satisfied: requests in c:\\users\\hp\\appdata\\local\\programs\\python\\python312\\lib\\site-packages (from folium) (2.31.0)\n",
      "Requirement already satisfied: xyzservices in c:\\users\\hp\\appdata\\local\\programs\\python\\python312\\lib\\site-packages (from folium) (2025.1.0)\n",
      "Requirement already satisfied: MarkupSafe>=2.0 in c:\\users\\hp\\appdata\\local\\programs\\python\\python312\\lib\\site-packages (from jinja2>=2.9->folium) (2.1.4)\n",
      "Requirement already satisfied: charset-normalizer<4,>=2 in c:\\users\\hp\\appdata\\local\\programs\\python\\python312\\lib\\site-packages (from requests->folium) (3.3.2)\n",
      "Requirement already satisfied: idna<4,>=2.5 in c:\\users\\hp\\appdata\\local\\programs\\python\\python312\\lib\\site-packages (from requests->folium) (3.6)\n",
      "Requirement already satisfied: urllib3<3,>=1.21.1 in c:\\users\\hp\\appdata\\local\\programs\\python\\python312\\lib\\site-packages (from requests->folium) (2.1.0)\n",
      "Requirement already satisfied: certifi>=2017.4.17 in c:\\users\\hp\\appdata\\local\\programs\\python\\python312\\lib\\site-packages (from requests->folium) (2023.11.17)\n"
     ]
    }
   ],
   "source": [
    "!pip install folium"
   ]
  },
  {
   "cell_type": "code",
   "execution_count": 2,
   "id": "b2a7eeb9-b23f-4891-8e73-559f818b7fe1",
   "metadata": {},
   "outputs": [
    {
     "name": "stdout",
     "output_type": "stream",
     "text": [
      "Requirement already satisfied: IPython in c:\\users\\hp\\appdata\\local\\programs\\python\\python312\\lib\\site-packages (8.20.0)\n",
      "Requirement already satisfied: decorator in c:\\users\\hp\\appdata\\local\\programs\\python\\python312\\lib\\site-packages (from IPython) (5.1.1)\n",
      "Requirement already satisfied: jedi>=0.16 in c:\\users\\hp\\appdata\\local\\programs\\python\\python312\\lib\\site-packages (from IPython) (0.19.1)\n",
      "Requirement already satisfied: matplotlib-inline in c:\\users\\hp\\appdata\\local\\programs\\python\\python312\\lib\\site-packages (from IPython) (0.1.6)\n",
      "Requirement already satisfied: prompt-toolkit<3.1.0,>=3.0.41 in c:\\users\\hp\\appdata\\local\\programs\\python\\python312\\lib\\site-packages (from IPython) (3.0.43)\n",
      "Requirement already satisfied: pygments>=2.4.0 in c:\\users\\hp\\appdata\\local\\programs\\python\\python312\\lib\\site-packages (from IPython) (2.17.2)\n",
      "Requirement already satisfied: stack-data in c:\\users\\hp\\appdata\\local\\programs\\python\\python312\\lib\\site-packages (from IPython) (0.6.3)\n",
      "Requirement already satisfied: traitlets>=5 in c:\\users\\hp\\appdata\\local\\programs\\python\\python312\\lib\\site-packages (from IPython) (5.14.1)\n",
      "Requirement already satisfied: colorama in c:\\users\\hp\\appdata\\local\\programs\\python\\python312\\lib\\site-packages (from IPython) (0.4.6)\n",
      "Requirement already satisfied: parso<0.9.0,>=0.8.3 in c:\\users\\hp\\appdata\\local\\programs\\python\\python312\\lib\\site-packages (from jedi>=0.16->IPython) (0.8.3)\n",
      "Requirement already satisfied: wcwidth in c:\\users\\hp\\appdata\\local\\programs\\python\\python312\\lib\\site-packages (from prompt-toolkit<3.1.0,>=3.0.41->IPython) (0.2.13)\n",
      "Requirement already satisfied: executing>=1.2.0 in c:\\users\\hp\\appdata\\local\\programs\\python\\python312\\lib\\site-packages (from stack-data->IPython) (2.0.1)\n",
      "Requirement already satisfied: asttokens>=2.1.0 in c:\\users\\hp\\appdata\\local\\programs\\python\\python312\\lib\\site-packages (from stack-data->IPython) (2.4.1)\n",
      "Requirement already satisfied: pure-eval in c:\\users\\hp\\appdata\\local\\programs\\python\\python312\\lib\\site-packages (from stack-data->IPython) (0.2.2)\n",
      "Requirement already satisfied: six>=1.12.0 in c:\\users\\hp\\appdata\\local\\programs\\python\\python312\\lib\\site-packages (from asttokens>=2.1.0->stack-data->IPython) (1.16.0)\n"
     ]
    }
   ],
   "source": [
    "!pip install IPython"
   ]
  },
  {
   "cell_type": "code",
   "execution_count": 3,
   "id": "93fcce59-a72a-4c43-871a-b596efa2fda2",
   "metadata": {},
   "outputs": [],
   "source": [
    "import pandas as pd \n",
    "import numpy as np\n",
    "import folium\n",
    "from folium.plugins import MarkerCluster\n",
    "from IPython.display import IFrame\n",
    "import matplotlib.pyplot as plt\n",
    "import seaborn as sns"
   ]
  },
  {
   "cell_type": "code",
   "execution_count": 6,
   "id": "9b41bc59-96bb-431e-9e86-6c10fd68ae39",
   "metadata": {},
   "outputs": [],
   "source": [
    "zomato_df=pd.read_csv(\"zomato_data.csv\")\n",
    "geo_df=pd.read_csv('Geographical Coordinates.csv')"
   ]
  },
  {
   "cell_type": "code",
   "execution_count": 7,
   "id": "0715d52e-756b-427d-bd99-9800b2f37771",
   "metadata": {},
   "outputs": [
    {
     "ename": "TypeError",
     "evalue": "Cannot convert ['4.1' '4.1' '3.8' ... 'nan' '4.3 ' '3.4 '] to numeric",
     "output_type": "error",
     "traceback": [
      "\u001b[1;31m---------------------------------------------------------------------------\u001b[0m",
      "\u001b[1;31mTypeError\u001b[0m                                 Traceback (most recent call last)",
      "Cell \u001b[1;32mIn[7], line 3\u001b[0m\n\u001b[0;32m      1\u001b[0m zomato_df[\u001b[38;5;124m'\u001b[39m\u001b[38;5;124mrate\u001b[39m\u001b[38;5;124m'\u001b[39m]\u001b[38;5;241m=\u001b[39mzomato_df[\u001b[38;5;124m'\u001b[39m\u001b[38;5;124mrate\u001b[39m\u001b[38;5;124m'\u001b[39m]\u001b[38;5;241m.\u001b[39mreplace(\u001b[38;5;124m'\u001b[39m\u001b[38;5;124m-\u001b[39m\u001b[38;5;124m'\u001b[39m,np\u001b[38;5;241m.\u001b[39mnan)\n\u001b[0;32m      2\u001b[0m zomato_df[\u001b[38;5;124m'\u001b[39m\u001b[38;5;124mrate\u001b[39m\u001b[38;5;124m'\u001b[39m]\u001b[38;5;241m=\u001b[39mzomato_df[\u001b[38;5;124m'\u001b[39m\u001b[38;5;124mrate\u001b[39m\u001b[38;5;124m'\u001b[39m]\u001b[38;5;241m.\u001b[39mastype(\u001b[38;5;28mstr\u001b[39m)\u001b[38;5;241m.\u001b[39mstr\u001b[38;5;241m.\u001b[39mreplace(\u001b[38;5;124m'\u001b[39m\u001b[38;5;124m/5\u001b[39m\u001b[38;5;124m'\u001b[39m, \u001b[38;5;124m'\u001b[39m\u001b[38;5;124m'\u001b[39m,regex\u001b[38;5;241m=\u001b[39m\u001b[38;5;28;01mFalse\u001b[39;00m)\n\u001b[1;32m----> 3\u001b[0m zomato_df[\u001b[38;5;124m'\u001b[39m\u001b[38;5;124mrate\u001b[39m\u001b[38;5;124m'\u001b[39m]\u001b[38;5;241m.\u001b[39mfillna(\u001b[43mzomato_df\u001b[49m\u001b[43m[\u001b[49m\u001b[38;5;124;43m'\u001b[39;49m\u001b[38;5;124;43mrate\u001b[39;49m\u001b[38;5;124;43m'\u001b[39;49m\u001b[43m]\u001b[49m\u001b[38;5;241;43m.\u001b[39;49m\u001b[43mmedian\u001b[49m\u001b[43m(\u001b[49m\u001b[43m)\u001b[49m,inplace\u001b[38;5;241m=\u001b[39m\u001b[38;5;28;01mTrue\u001b[39;00m)\n\u001b[0;32m      5\u001b[0m zomato_df[\u001b[38;5;124m'\u001b[39m\u001b[38;5;124mapprox_costfor_two_people\u001b[39m\u001b[38;5;124m'\u001b[39m]\u001b[38;5;241m=\u001b[39mzomato_df[\u001b[38;5;124m'\u001b[39m\u001b[38;5;124mapprox_costfor_two_people\u001b[39m\u001b[38;5;124m'\u001b[39m]\u001b[38;5;241m.\u001b[39mastype(\u001b[38;5;28mstr\u001b[39m)\u001b[38;5;241m.\u001b[39mstr\u001b[38;5;241m.\u001b[39mreplace(\u001b[38;5;124m'\u001b[39m\u001b[38;5;124m,\u001b[39m\u001b[38;5;124m'\u001b[39m, \u001b[38;5;124m'\u001b[39m\u001b[38;5;124m'\u001b[39m)\n\u001b[0;32m      6\u001b[0m zomato_df[\u001b[38;5;124m'\u001b[39m\u001b[38;5;124mapprox_costfor_two_people\u001b[39m\u001b[38;5;124m'\u001b[39m]\u001b[38;5;241m=\u001b[39mpd\u001b[38;5;241m.\u001b[39mto_numeric(zomato_df[\u001b[38;5;124m'\u001b[39m\u001b[38;5;124mapprox_costfor_two_people\u001b[39m\u001b[38;5;124m'\u001b[39m],errors\u001b[38;5;241m=\u001b[39m\u001b[38;5;124m'\u001b[39m\u001b[38;5;124mcoerce\u001b[39m\u001b[38;5;124m'\u001b[39m)\n",
      "File \u001b[1;32m~\\AppData\\Local\\Programs\\Python\\Python312\\Lib\\site-packages\\pandas\\core\\series.py:6559\u001b[0m, in \u001b[0;36mSeries.median\u001b[1;34m(self, axis, skipna, numeric_only, **kwargs)\u001b[0m\n\u001b[0;32m   6551\u001b[0m \u001b[38;5;129m@doc\u001b[39m(make_doc(\u001b[38;5;124m\"\u001b[39m\u001b[38;5;124mmedian\u001b[39m\u001b[38;5;124m\"\u001b[39m, ndim\u001b[38;5;241m=\u001b[39m\u001b[38;5;241m1\u001b[39m))\n\u001b[0;32m   6552\u001b[0m \u001b[38;5;28;01mdef\u001b[39;00m \u001b[38;5;21mmedian\u001b[39m(\n\u001b[0;32m   6553\u001b[0m     \u001b[38;5;28mself\u001b[39m,\n\u001b[1;32m   (...)\u001b[0m\n\u001b[0;32m   6557\u001b[0m     \u001b[38;5;241m*\u001b[39m\u001b[38;5;241m*\u001b[39mkwargs,\n\u001b[0;32m   6558\u001b[0m ):\n\u001b[1;32m-> 6559\u001b[0m     \u001b[38;5;28;01mreturn\u001b[39;00m \u001b[43mNDFrame\u001b[49m\u001b[38;5;241;43m.\u001b[39;49m\u001b[43mmedian\u001b[49m\u001b[43m(\u001b[49m\u001b[38;5;28;43mself\u001b[39;49m\u001b[43m,\u001b[49m\u001b[43m \u001b[49m\u001b[43maxis\u001b[49m\u001b[43m,\u001b[49m\u001b[43m \u001b[49m\u001b[43mskipna\u001b[49m\u001b[43m,\u001b[49m\u001b[43m \u001b[49m\u001b[43mnumeric_only\u001b[49m\u001b[43m,\u001b[49m\u001b[43m \u001b[49m\u001b[38;5;241;43m*\u001b[39;49m\u001b[38;5;241;43m*\u001b[39;49m\u001b[43mkwargs\u001b[49m\u001b[43m)\u001b[49m\n",
      "File \u001b[1;32m~\\AppData\\Local\\Programs\\Python\\Python312\\Lib\\site-packages\\pandas\\core\\generic.py:12431\u001b[0m, in \u001b[0;36mNDFrame.median\u001b[1;34m(self, axis, skipna, numeric_only, **kwargs)\u001b[0m\n\u001b[0;32m  12424\u001b[0m \u001b[38;5;28;01mdef\u001b[39;00m \u001b[38;5;21mmedian\u001b[39m(\n\u001b[0;32m  12425\u001b[0m     \u001b[38;5;28mself\u001b[39m,\n\u001b[0;32m  12426\u001b[0m     axis: Axis \u001b[38;5;241m|\u001b[39m \u001b[38;5;28;01mNone\u001b[39;00m \u001b[38;5;241m=\u001b[39m \u001b[38;5;241m0\u001b[39m,\n\u001b[1;32m   (...)\u001b[0m\n\u001b[0;32m  12429\u001b[0m     \u001b[38;5;241m*\u001b[39m\u001b[38;5;241m*\u001b[39mkwargs,\n\u001b[0;32m  12430\u001b[0m ) \u001b[38;5;241m-\u001b[39m\u001b[38;5;241m>\u001b[39m Series \u001b[38;5;241m|\u001b[39m \u001b[38;5;28mfloat\u001b[39m:\n\u001b[1;32m> 12431\u001b[0m     \u001b[38;5;28;01mreturn\u001b[39;00m \u001b[38;5;28;43mself\u001b[39;49m\u001b[38;5;241;43m.\u001b[39;49m\u001b[43m_stat_function\u001b[49m\u001b[43m(\u001b[49m\n\u001b[0;32m  12432\u001b[0m \u001b[43m        \u001b[49m\u001b[38;5;124;43m\"\u001b[39;49m\u001b[38;5;124;43mmedian\u001b[39;49m\u001b[38;5;124;43m\"\u001b[39;49m\u001b[43m,\u001b[49m\u001b[43m \u001b[49m\u001b[43mnanops\u001b[49m\u001b[38;5;241;43m.\u001b[39;49m\u001b[43mnanmedian\u001b[49m\u001b[43m,\u001b[49m\u001b[43m \u001b[49m\u001b[43maxis\u001b[49m\u001b[43m,\u001b[49m\u001b[43m \u001b[49m\u001b[43mskipna\u001b[49m\u001b[43m,\u001b[49m\u001b[43m \u001b[49m\u001b[43mnumeric_only\u001b[49m\u001b[43m,\u001b[49m\u001b[43m \u001b[49m\u001b[38;5;241;43m*\u001b[39;49m\u001b[38;5;241;43m*\u001b[39;49m\u001b[43mkwargs\u001b[49m\n\u001b[0;32m  12433\u001b[0m \u001b[43m    \u001b[49m\u001b[43m)\u001b[49m\n",
      "File \u001b[1;32m~\\AppData\\Local\\Programs\\Python\\Python312\\Lib\\site-packages\\pandas\\core\\generic.py:12377\u001b[0m, in \u001b[0;36mNDFrame._stat_function\u001b[1;34m(self, name, func, axis, skipna, numeric_only, **kwargs)\u001b[0m\n\u001b[0;32m  12373\u001b[0m nv\u001b[38;5;241m.\u001b[39mvalidate_func(name, (), kwargs)\n\u001b[0;32m  12375\u001b[0m validate_bool_kwarg(skipna, \u001b[38;5;124m\"\u001b[39m\u001b[38;5;124mskipna\u001b[39m\u001b[38;5;124m\"\u001b[39m, none_allowed\u001b[38;5;241m=\u001b[39m\u001b[38;5;28;01mFalse\u001b[39;00m)\n\u001b[1;32m> 12377\u001b[0m \u001b[38;5;28;01mreturn\u001b[39;00m \u001b[38;5;28;43mself\u001b[39;49m\u001b[38;5;241;43m.\u001b[39;49m\u001b[43m_reduce\u001b[49m\u001b[43m(\u001b[49m\n\u001b[0;32m  12378\u001b[0m \u001b[43m    \u001b[49m\u001b[43mfunc\u001b[49m\u001b[43m,\u001b[49m\u001b[43m \u001b[49m\u001b[43mname\u001b[49m\u001b[38;5;241;43m=\u001b[39;49m\u001b[43mname\u001b[49m\u001b[43m,\u001b[49m\u001b[43m \u001b[49m\u001b[43maxis\u001b[49m\u001b[38;5;241;43m=\u001b[39;49m\u001b[43maxis\u001b[49m\u001b[43m,\u001b[49m\u001b[43m \u001b[49m\u001b[43mskipna\u001b[49m\u001b[38;5;241;43m=\u001b[39;49m\u001b[43mskipna\u001b[49m\u001b[43m,\u001b[49m\u001b[43m \u001b[49m\u001b[43mnumeric_only\u001b[49m\u001b[38;5;241;43m=\u001b[39;49m\u001b[43mnumeric_only\u001b[49m\n\u001b[0;32m  12379\u001b[0m \u001b[43m\u001b[49m\u001b[43m)\u001b[49m\n",
      "File \u001b[1;32m~\\AppData\\Local\\Programs\\Python\\Python312\\Lib\\site-packages\\pandas\\core\\series.py:6457\u001b[0m, in \u001b[0;36mSeries._reduce\u001b[1;34m(self, op, name, axis, skipna, numeric_only, filter_type, **kwds)\u001b[0m\n\u001b[0;32m   6452\u001b[0m     \u001b[38;5;66;03m# GH#47500 - change to TypeError to match other methods\u001b[39;00m\n\u001b[0;32m   6453\u001b[0m     \u001b[38;5;28;01mraise\u001b[39;00m \u001b[38;5;167;01mTypeError\u001b[39;00m(\n\u001b[0;32m   6454\u001b[0m         \u001b[38;5;124mf\u001b[39m\u001b[38;5;124m\"\u001b[39m\u001b[38;5;124mSeries.\u001b[39m\u001b[38;5;132;01m{\u001b[39;00mname\u001b[38;5;132;01m}\u001b[39;00m\u001b[38;5;124m does not allow \u001b[39m\u001b[38;5;132;01m{\u001b[39;00mkwd_name\u001b[38;5;132;01m}\u001b[39;00m\u001b[38;5;124m=\u001b[39m\u001b[38;5;132;01m{\u001b[39;00mnumeric_only\u001b[38;5;132;01m}\u001b[39;00m\u001b[38;5;124m \u001b[39m\u001b[38;5;124m\"\u001b[39m\n\u001b[0;32m   6455\u001b[0m         \u001b[38;5;124m\"\u001b[39m\u001b[38;5;124mwith non-numeric dtypes.\u001b[39m\u001b[38;5;124m\"\u001b[39m\n\u001b[0;32m   6456\u001b[0m     )\n\u001b[1;32m-> 6457\u001b[0m \u001b[38;5;28;01mreturn\u001b[39;00m \u001b[43mop\u001b[49m\u001b[43m(\u001b[49m\u001b[43mdelegate\u001b[49m\u001b[43m,\u001b[49m\u001b[43m \u001b[49m\u001b[43mskipna\u001b[49m\u001b[38;5;241;43m=\u001b[39;49m\u001b[43mskipna\u001b[49m\u001b[43m,\u001b[49m\u001b[43m \u001b[49m\u001b[38;5;241;43m*\u001b[39;49m\u001b[38;5;241;43m*\u001b[39;49m\u001b[43mkwds\u001b[49m\u001b[43m)\u001b[49m\n",
      "File \u001b[1;32m~\\AppData\\Local\\Programs\\Python\\Python312\\Lib\\site-packages\\pandas\\core\\nanops.py:147\u001b[0m, in \u001b[0;36mbottleneck_switch.__call__.<locals>.f\u001b[1;34m(values, axis, skipna, **kwds)\u001b[0m\n\u001b[0;32m    145\u001b[0m         result \u001b[38;5;241m=\u001b[39m alt(values, axis\u001b[38;5;241m=\u001b[39maxis, skipna\u001b[38;5;241m=\u001b[39mskipna, \u001b[38;5;241m*\u001b[39m\u001b[38;5;241m*\u001b[39mkwds)\n\u001b[0;32m    146\u001b[0m \u001b[38;5;28;01melse\u001b[39;00m:\n\u001b[1;32m--> 147\u001b[0m     result \u001b[38;5;241m=\u001b[39m \u001b[43malt\u001b[49m\u001b[43m(\u001b[49m\u001b[43mvalues\u001b[49m\u001b[43m,\u001b[49m\u001b[43m \u001b[49m\u001b[43maxis\u001b[49m\u001b[38;5;241;43m=\u001b[39;49m\u001b[43maxis\u001b[49m\u001b[43m,\u001b[49m\u001b[43m \u001b[49m\u001b[43mskipna\u001b[49m\u001b[38;5;241;43m=\u001b[39;49m\u001b[43mskipna\u001b[49m\u001b[43m,\u001b[49m\u001b[43m \u001b[49m\u001b[38;5;241;43m*\u001b[39;49m\u001b[38;5;241;43m*\u001b[39;49m\u001b[43mkwds\u001b[49m\u001b[43m)\u001b[49m\n\u001b[0;32m    149\u001b[0m \u001b[38;5;28;01mreturn\u001b[39;00m result\n",
      "File \u001b[1;32m~\\AppData\\Local\\Programs\\Python\\Python312\\Lib\\site-packages\\pandas\\core\\nanops.py:787\u001b[0m, in \u001b[0;36mnanmedian\u001b[1;34m(values, axis, skipna, mask)\u001b[0m\n\u001b[0;32m    785\u001b[0m     inferred \u001b[38;5;241m=\u001b[39m lib\u001b[38;5;241m.\u001b[39minfer_dtype(values)\n\u001b[0;32m    786\u001b[0m     \u001b[38;5;28;01mif\u001b[39;00m inferred \u001b[38;5;129;01min\u001b[39;00m [\u001b[38;5;124m\"\u001b[39m\u001b[38;5;124mstring\u001b[39m\u001b[38;5;124m\"\u001b[39m, \u001b[38;5;124m\"\u001b[39m\u001b[38;5;124mmixed\u001b[39m\u001b[38;5;124m\"\u001b[39m]:\n\u001b[1;32m--> 787\u001b[0m         \u001b[38;5;28;01mraise\u001b[39;00m \u001b[38;5;167;01mTypeError\u001b[39;00m(\u001b[38;5;124mf\u001b[39m\u001b[38;5;124m\"\u001b[39m\u001b[38;5;124mCannot convert \u001b[39m\u001b[38;5;132;01m{\u001b[39;00mvalues\u001b[38;5;132;01m}\u001b[39;00m\u001b[38;5;124m to numeric\u001b[39m\u001b[38;5;124m\"\u001b[39m)\n\u001b[0;32m    788\u001b[0m \u001b[38;5;28;01mtry\u001b[39;00m:\n\u001b[0;32m    789\u001b[0m     values \u001b[38;5;241m=\u001b[39m values\u001b[38;5;241m.\u001b[39mastype(\u001b[38;5;124m\"\u001b[39m\u001b[38;5;124mf8\u001b[39m\u001b[38;5;124m\"\u001b[39m)\n",
      "\u001b[1;31mTypeError\u001b[0m: Cannot convert ['4.1' '4.1' '3.8' ... 'nan' '4.3 ' '3.4 '] to numeric"
     ]
    }
   ],
   "source": [
    "zomato_df['rate']=zomato_df['rate'].replace('-',np.nan)\n",
    "zomato_df['rate']=zomato_df['rate'].astype(str).str.replace('/5', '',regex=False)\n",
    "zomato_df['rate'].fillna(zomato_df['rate'].median(),inplace=True)\n",
    "\n",
    "zomato_df['approx_costfor_two_people']=zomato_df['approx_costfor_two_people'].astype(str).str.replace(',', '')\n",
    "zomato_df['approx_costfor_two_people']=pd.to_numeric(zomato_df['approx_costfor_two_people'],errors='coerce')\n",
    "zomato_df['approx_costfor_two_people'].fillna(zomato_df['approx_costfor_two_people'].median(),inplace=True)\n",
    "\n",
    "zomato_df['dish_liked'].fillna('Not Available',inplace=True)\n",
    "zomato_df['cuisines'].fillna('Other',inplace=True)\n",
    "zomato_df['rest_type'].fillna('Unknown',inplace=True)\n",
    "\n",
    "zomato_df['votes'].fillna(zomato_df['votes'].median(),inplace=True)\n",
    "\n",
    "zomato_df['online_order']=zomato_df['online_order'].map({'Yes':1,'No':0})\n",
    "zomato_df['book_table']=zomato_df['book_table'].map({'Yes':1,'No':0})"
   ]
  },
  {
   "cell_type": "code",
   "execution_count": 8,
   "id": "4148dc93-5366-4717-9013-2db5f11744c1",
   "metadata": {},
   "outputs": [],
   "source": [
    "\n",
    "zomato_df['rate'] = zomato_df['rate'].astype(str).str.replace('/5', '', regex=False)\n",
    "zomato_df['rate'] = zomato_df['rate'].str.strip()  \n",
    "zomato_df['rate'] = zomato_df['rate'].replace('-', np.nan)  \n",
    "zomato_df['rate'] = pd.to_numeric(zomato_df['rate'], errors='coerce')  \n"
   ]
  },
  {
   "cell_type": "code",
   "execution_count": 11,
   "id": "31d22d74-1697-41ec-8f1d-b848298ea52c",
   "metadata": {},
   "outputs": [
    {
     "ename": "TypeError",
     "evalue": "Cannot convert ['4.1' '4.1' '3.8' ... 'nan' '4.3' '3.4'] to numeric",
     "output_type": "error",
     "traceback": [
      "\u001b[1;31m---------------------------------------------------------------------------\u001b[0m",
      "\u001b[1;31mTypeError\u001b[0m                                 Traceback (most recent call last)",
      "Cell \u001b[1;32mIn[11], line 3\u001b[0m\n\u001b[0;32m      1\u001b[0m zomato_df[\u001b[38;5;124m'\u001b[39m\u001b[38;5;124mrate\u001b[39m\u001b[38;5;124m'\u001b[39m]\u001b[38;5;241m=\u001b[39mzomato_df[\u001b[38;5;124m'\u001b[39m\u001b[38;5;124mrate\u001b[39m\u001b[38;5;124m'\u001b[39m]\u001b[38;5;241m.\u001b[39mreplace(\u001b[38;5;124m'\u001b[39m\u001b[38;5;124m-\u001b[39m\u001b[38;5;124m'\u001b[39m,np\u001b[38;5;241m.\u001b[39mnan)\n\u001b[0;32m      2\u001b[0m zomato_df[\u001b[38;5;124m'\u001b[39m\u001b[38;5;124mrate\u001b[39m\u001b[38;5;124m'\u001b[39m]\u001b[38;5;241m=\u001b[39mzomato_df[\u001b[38;5;124m'\u001b[39m\u001b[38;5;124mrate\u001b[39m\u001b[38;5;124m'\u001b[39m]\u001b[38;5;241m.\u001b[39mastype(\u001b[38;5;28mstr\u001b[39m)\u001b[38;5;241m.\u001b[39mstr\u001b[38;5;241m.\u001b[39mreplace(\u001b[38;5;124m'\u001b[39m\u001b[38;5;124m/5\u001b[39m\u001b[38;5;124m'\u001b[39m, \u001b[38;5;124m'\u001b[39m\u001b[38;5;124m'\u001b[39m,regex\u001b[38;5;241m=\u001b[39m\u001b[38;5;28;01mFalse\u001b[39;00m)\n\u001b[1;32m----> 3\u001b[0m zomato_df[\u001b[38;5;124m'\u001b[39m\u001b[38;5;124mrate\u001b[39m\u001b[38;5;124m'\u001b[39m]\u001b[38;5;241m.\u001b[39mfillna(\u001b[43mzomato_df\u001b[49m\u001b[43m[\u001b[49m\u001b[38;5;124;43m'\u001b[39;49m\u001b[38;5;124;43mrate\u001b[39;49m\u001b[38;5;124;43m'\u001b[39;49m\u001b[43m]\u001b[49m\u001b[38;5;241;43m.\u001b[39;49m\u001b[43mmedian\u001b[49m\u001b[43m(\u001b[49m\u001b[43m)\u001b[49m,inplace\u001b[38;5;241m=\u001b[39m\u001b[38;5;28;01mTrue\u001b[39;00m)\n\u001b[0;32m      5\u001b[0m zomato_df[\u001b[38;5;124m'\u001b[39m\u001b[38;5;124mapprox_costfor_two_people\u001b[39m\u001b[38;5;124m'\u001b[39m]\u001b[38;5;241m=\u001b[39mzomato_df[\u001b[38;5;124m'\u001b[39m\u001b[38;5;124mapprox_costfor_two_people\u001b[39m\u001b[38;5;124m'\u001b[39m]\u001b[38;5;241m.\u001b[39mastype(\u001b[38;5;28mstr\u001b[39m)\u001b[38;5;241m.\u001b[39mstr\u001b[38;5;241m.\u001b[39mreplace(\u001b[38;5;124m'\u001b[39m\u001b[38;5;124m,\u001b[39m\u001b[38;5;124m'\u001b[39m, \u001b[38;5;124m'\u001b[39m\u001b[38;5;124m'\u001b[39m)\n\u001b[0;32m      6\u001b[0m zomato_df[\u001b[38;5;124m'\u001b[39m\u001b[38;5;124mapprox_costfor_two_people\u001b[39m\u001b[38;5;124m'\u001b[39m]\u001b[38;5;241m=\u001b[39mpd\u001b[38;5;241m.\u001b[39mto_numeric(zomato_df[\u001b[38;5;124m'\u001b[39m\u001b[38;5;124mapprox_costfor_two_people\u001b[39m\u001b[38;5;124m'\u001b[39m],errors\u001b[38;5;241m=\u001b[39m\u001b[38;5;124m'\u001b[39m\u001b[38;5;124mcoerce\u001b[39m\u001b[38;5;124m'\u001b[39m)\n",
      "File \u001b[1;32m~\\AppData\\Local\\Programs\\Python\\Python312\\Lib\\site-packages\\pandas\\core\\series.py:6559\u001b[0m, in \u001b[0;36mSeries.median\u001b[1;34m(self, axis, skipna, numeric_only, **kwargs)\u001b[0m\n\u001b[0;32m   6551\u001b[0m \u001b[38;5;129m@doc\u001b[39m(make_doc(\u001b[38;5;124m\"\u001b[39m\u001b[38;5;124mmedian\u001b[39m\u001b[38;5;124m\"\u001b[39m, ndim\u001b[38;5;241m=\u001b[39m\u001b[38;5;241m1\u001b[39m))\n\u001b[0;32m   6552\u001b[0m \u001b[38;5;28;01mdef\u001b[39;00m \u001b[38;5;21mmedian\u001b[39m(\n\u001b[0;32m   6553\u001b[0m     \u001b[38;5;28mself\u001b[39m,\n\u001b[1;32m   (...)\u001b[0m\n\u001b[0;32m   6557\u001b[0m     \u001b[38;5;241m*\u001b[39m\u001b[38;5;241m*\u001b[39mkwargs,\n\u001b[0;32m   6558\u001b[0m ):\n\u001b[1;32m-> 6559\u001b[0m     \u001b[38;5;28;01mreturn\u001b[39;00m \u001b[43mNDFrame\u001b[49m\u001b[38;5;241;43m.\u001b[39;49m\u001b[43mmedian\u001b[49m\u001b[43m(\u001b[49m\u001b[38;5;28;43mself\u001b[39;49m\u001b[43m,\u001b[49m\u001b[43m \u001b[49m\u001b[43maxis\u001b[49m\u001b[43m,\u001b[49m\u001b[43m \u001b[49m\u001b[43mskipna\u001b[49m\u001b[43m,\u001b[49m\u001b[43m \u001b[49m\u001b[43mnumeric_only\u001b[49m\u001b[43m,\u001b[49m\u001b[43m \u001b[49m\u001b[38;5;241;43m*\u001b[39;49m\u001b[38;5;241;43m*\u001b[39;49m\u001b[43mkwargs\u001b[49m\u001b[43m)\u001b[49m\n",
      "File \u001b[1;32m~\\AppData\\Local\\Programs\\Python\\Python312\\Lib\\site-packages\\pandas\\core\\generic.py:12431\u001b[0m, in \u001b[0;36mNDFrame.median\u001b[1;34m(self, axis, skipna, numeric_only, **kwargs)\u001b[0m\n\u001b[0;32m  12424\u001b[0m \u001b[38;5;28;01mdef\u001b[39;00m \u001b[38;5;21mmedian\u001b[39m(\n\u001b[0;32m  12425\u001b[0m     \u001b[38;5;28mself\u001b[39m,\n\u001b[0;32m  12426\u001b[0m     axis: Axis \u001b[38;5;241m|\u001b[39m \u001b[38;5;28;01mNone\u001b[39;00m \u001b[38;5;241m=\u001b[39m \u001b[38;5;241m0\u001b[39m,\n\u001b[1;32m   (...)\u001b[0m\n\u001b[0;32m  12429\u001b[0m     \u001b[38;5;241m*\u001b[39m\u001b[38;5;241m*\u001b[39mkwargs,\n\u001b[0;32m  12430\u001b[0m ) \u001b[38;5;241m-\u001b[39m\u001b[38;5;241m>\u001b[39m Series \u001b[38;5;241m|\u001b[39m \u001b[38;5;28mfloat\u001b[39m:\n\u001b[1;32m> 12431\u001b[0m     \u001b[38;5;28;01mreturn\u001b[39;00m \u001b[38;5;28;43mself\u001b[39;49m\u001b[38;5;241;43m.\u001b[39;49m\u001b[43m_stat_function\u001b[49m\u001b[43m(\u001b[49m\n\u001b[0;32m  12432\u001b[0m \u001b[43m        \u001b[49m\u001b[38;5;124;43m\"\u001b[39;49m\u001b[38;5;124;43mmedian\u001b[39;49m\u001b[38;5;124;43m\"\u001b[39;49m\u001b[43m,\u001b[49m\u001b[43m \u001b[49m\u001b[43mnanops\u001b[49m\u001b[38;5;241;43m.\u001b[39;49m\u001b[43mnanmedian\u001b[49m\u001b[43m,\u001b[49m\u001b[43m \u001b[49m\u001b[43maxis\u001b[49m\u001b[43m,\u001b[49m\u001b[43m \u001b[49m\u001b[43mskipna\u001b[49m\u001b[43m,\u001b[49m\u001b[43m \u001b[49m\u001b[43mnumeric_only\u001b[49m\u001b[43m,\u001b[49m\u001b[43m \u001b[49m\u001b[38;5;241;43m*\u001b[39;49m\u001b[38;5;241;43m*\u001b[39;49m\u001b[43mkwargs\u001b[49m\n\u001b[0;32m  12433\u001b[0m \u001b[43m    \u001b[49m\u001b[43m)\u001b[49m\n",
      "File \u001b[1;32m~\\AppData\\Local\\Programs\\Python\\Python312\\Lib\\site-packages\\pandas\\core\\generic.py:12377\u001b[0m, in \u001b[0;36mNDFrame._stat_function\u001b[1;34m(self, name, func, axis, skipna, numeric_only, **kwargs)\u001b[0m\n\u001b[0;32m  12373\u001b[0m nv\u001b[38;5;241m.\u001b[39mvalidate_func(name, (), kwargs)\n\u001b[0;32m  12375\u001b[0m validate_bool_kwarg(skipna, \u001b[38;5;124m\"\u001b[39m\u001b[38;5;124mskipna\u001b[39m\u001b[38;5;124m\"\u001b[39m, none_allowed\u001b[38;5;241m=\u001b[39m\u001b[38;5;28;01mFalse\u001b[39;00m)\n\u001b[1;32m> 12377\u001b[0m \u001b[38;5;28;01mreturn\u001b[39;00m \u001b[38;5;28;43mself\u001b[39;49m\u001b[38;5;241;43m.\u001b[39;49m\u001b[43m_reduce\u001b[49m\u001b[43m(\u001b[49m\n\u001b[0;32m  12378\u001b[0m \u001b[43m    \u001b[49m\u001b[43mfunc\u001b[49m\u001b[43m,\u001b[49m\u001b[43m \u001b[49m\u001b[43mname\u001b[49m\u001b[38;5;241;43m=\u001b[39;49m\u001b[43mname\u001b[49m\u001b[43m,\u001b[49m\u001b[43m \u001b[49m\u001b[43maxis\u001b[49m\u001b[38;5;241;43m=\u001b[39;49m\u001b[43maxis\u001b[49m\u001b[43m,\u001b[49m\u001b[43m \u001b[49m\u001b[43mskipna\u001b[49m\u001b[38;5;241;43m=\u001b[39;49m\u001b[43mskipna\u001b[49m\u001b[43m,\u001b[49m\u001b[43m \u001b[49m\u001b[43mnumeric_only\u001b[49m\u001b[38;5;241;43m=\u001b[39;49m\u001b[43mnumeric_only\u001b[49m\n\u001b[0;32m  12379\u001b[0m \u001b[43m\u001b[49m\u001b[43m)\u001b[49m\n",
      "File \u001b[1;32m~\\AppData\\Local\\Programs\\Python\\Python312\\Lib\\site-packages\\pandas\\core\\series.py:6457\u001b[0m, in \u001b[0;36mSeries._reduce\u001b[1;34m(self, op, name, axis, skipna, numeric_only, filter_type, **kwds)\u001b[0m\n\u001b[0;32m   6452\u001b[0m     \u001b[38;5;66;03m# GH#47500 - change to TypeError to match other methods\u001b[39;00m\n\u001b[0;32m   6453\u001b[0m     \u001b[38;5;28;01mraise\u001b[39;00m \u001b[38;5;167;01mTypeError\u001b[39;00m(\n\u001b[0;32m   6454\u001b[0m         \u001b[38;5;124mf\u001b[39m\u001b[38;5;124m\"\u001b[39m\u001b[38;5;124mSeries.\u001b[39m\u001b[38;5;132;01m{\u001b[39;00mname\u001b[38;5;132;01m}\u001b[39;00m\u001b[38;5;124m does not allow \u001b[39m\u001b[38;5;132;01m{\u001b[39;00mkwd_name\u001b[38;5;132;01m}\u001b[39;00m\u001b[38;5;124m=\u001b[39m\u001b[38;5;132;01m{\u001b[39;00mnumeric_only\u001b[38;5;132;01m}\u001b[39;00m\u001b[38;5;124m \u001b[39m\u001b[38;5;124m\"\u001b[39m\n\u001b[0;32m   6455\u001b[0m         \u001b[38;5;124m\"\u001b[39m\u001b[38;5;124mwith non-numeric dtypes.\u001b[39m\u001b[38;5;124m\"\u001b[39m\n\u001b[0;32m   6456\u001b[0m     )\n\u001b[1;32m-> 6457\u001b[0m \u001b[38;5;28;01mreturn\u001b[39;00m \u001b[43mop\u001b[49m\u001b[43m(\u001b[49m\u001b[43mdelegate\u001b[49m\u001b[43m,\u001b[49m\u001b[43m \u001b[49m\u001b[43mskipna\u001b[49m\u001b[38;5;241;43m=\u001b[39;49m\u001b[43mskipna\u001b[49m\u001b[43m,\u001b[49m\u001b[43m \u001b[49m\u001b[38;5;241;43m*\u001b[39;49m\u001b[38;5;241;43m*\u001b[39;49m\u001b[43mkwds\u001b[49m\u001b[43m)\u001b[49m\n",
      "File \u001b[1;32m~\\AppData\\Local\\Programs\\Python\\Python312\\Lib\\site-packages\\pandas\\core\\nanops.py:147\u001b[0m, in \u001b[0;36mbottleneck_switch.__call__.<locals>.f\u001b[1;34m(values, axis, skipna, **kwds)\u001b[0m\n\u001b[0;32m    145\u001b[0m         result \u001b[38;5;241m=\u001b[39m alt(values, axis\u001b[38;5;241m=\u001b[39maxis, skipna\u001b[38;5;241m=\u001b[39mskipna, \u001b[38;5;241m*\u001b[39m\u001b[38;5;241m*\u001b[39mkwds)\n\u001b[0;32m    146\u001b[0m \u001b[38;5;28;01melse\u001b[39;00m:\n\u001b[1;32m--> 147\u001b[0m     result \u001b[38;5;241m=\u001b[39m \u001b[43malt\u001b[49m\u001b[43m(\u001b[49m\u001b[43mvalues\u001b[49m\u001b[43m,\u001b[49m\u001b[43m \u001b[49m\u001b[43maxis\u001b[49m\u001b[38;5;241;43m=\u001b[39;49m\u001b[43maxis\u001b[49m\u001b[43m,\u001b[49m\u001b[43m \u001b[49m\u001b[43mskipna\u001b[49m\u001b[38;5;241;43m=\u001b[39;49m\u001b[43mskipna\u001b[49m\u001b[43m,\u001b[49m\u001b[43m \u001b[49m\u001b[38;5;241;43m*\u001b[39;49m\u001b[38;5;241;43m*\u001b[39;49m\u001b[43mkwds\u001b[49m\u001b[43m)\u001b[49m\n\u001b[0;32m    149\u001b[0m \u001b[38;5;28;01mreturn\u001b[39;00m result\n",
      "File \u001b[1;32m~\\AppData\\Local\\Programs\\Python\\Python312\\Lib\\site-packages\\pandas\\core\\nanops.py:787\u001b[0m, in \u001b[0;36mnanmedian\u001b[1;34m(values, axis, skipna, mask)\u001b[0m\n\u001b[0;32m    785\u001b[0m     inferred \u001b[38;5;241m=\u001b[39m lib\u001b[38;5;241m.\u001b[39minfer_dtype(values)\n\u001b[0;32m    786\u001b[0m     \u001b[38;5;28;01mif\u001b[39;00m inferred \u001b[38;5;129;01min\u001b[39;00m [\u001b[38;5;124m\"\u001b[39m\u001b[38;5;124mstring\u001b[39m\u001b[38;5;124m\"\u001b[39m, \u001b[38;5;124m\"\u001b[39m\u001b[38;5;124mmixed\u001b[39m\u001b[38;5;124m\"\u001b[39m]:\n\u001b[1;32m--> 787\u001b[0m         \u001b[38;5;28;01mraise\u001b[39;00m \u001b[38;5;167;01mTypeError\u001b[39;00m(\u001b[38;5;124mf\u001b[39m\u001b[38;5;124m\"\u001b[39m\u001b[38;5;124mCannot convert \u001b[39m\u001b[38;5;132;01m{\u001b[39;00mvalues\u001b[38;5;132;01m}\u001b[39;00m\u001b[38;5;124m to numeric\u001b[39m\u001b[38;5;124m\"\u001b[39m)\n\u001b[0;32m    788\u001b[0m \u001b[38;5;28;01mtry\u001b[39;00m:\n\u001b[0;32m    789\u001b[0m     values \u001b[38;5;241m=\u001b[39m values\u001b[38;5;241m.\u001b[39mastype(\u001b[38;5;124m\"\u001b[39m\u001b[38;5;124mf8\u001b[39m\u001b[38;5;124m\"\u001b[39m)\n",
      "\u001b[1;31mTypeError\u001b[0m: Cannot convert ['4.1' '4.1' '3.8' ... 'nan' '4.3' '3.4'] to numeric"
     ]
    }
   ],
   "source": [
    "zomato_df['rate']=zomato_df['rate'].replace('-',np.nan)\n",
    "zomato_df['rate']=zomato_df['rate'].astype(str).str.replace('/5', '',regex=False)\n",
    "zomato_df['rate'].fillna(zomato_df['rate'].median(),inplace=True)\n",
    "\n",
    "zomato_df['approx_costfor_two_people']=zomato_df['approx_costfor_two_people'].astype(str).str.replace(',', '')\n",
    "zomato_df['approx_costfor_two_people']=pd.to_numeric(zomato_df['approx_costfor_two_people'],errors='coerce')\n",
    "zomato_df['approx_costfor_two_people'].fillna(zomato_df['approx_costfor_two_people'].median(),inplace=True)\n",
    "\n",
    "zomato_df['dish_liked'].fillna('Not Available',inplace=True)\n",
    "zomato_df['cuisines'].fillna('Other',inplace=True)\n",
    "zomato_df['rest_type'].fillna('Unknown',inplace=True)\n",
    "\n",
    "zomato_df['votes'].fillna(zomato_df['votes'].median(),inplace=True)\n",
    "\n",
    "zomato_df['online_order']=zomato_df['online_order'].map({'Yes':1,'No':0})\n",
    "zomato_df['book_table']=zomato_df['book_table'].map({'Yes':1,'No':0})"
   ]
  },
  {
   "cell_type": "code",
   "execution_count": 13,
   "id": "7ef34e82-c32d-49c5-acf1-22ad2f63bb08",
   "metadata": {},
   "outputs": [],
   "source": [
    "import numpy as np\n",
    "import pandas as pd\n",
    "\n",
    "# Clean and convert 'rate' to numeric\n",
    "zomato_df['rate'] = zomato_df['rate'].astype(str).str.replace('/5', '', regex=False)\n",
    "zomato_df['rate'] = zomato_df['rate'].str.strip()  \n",
    "zomato_df['rate'] = zomato_df['rate'].replace('-', np.nan) \n",
    "zomato_df['rate'] = pd.to_numeric(zomato_df['rate'], errors='coerce')  \n",
    "zomato_df['rate'] = zomato_df['rate'].fillna(zomato_df['rate'].median())\n",
    "\n"
   ]
  },
  {
   "cell_type": "code",
   "execution_count": 14,
   "id": "ea1f563c-3cad-4ed7-b2fb-34d53faf0694",
   "metadata": {},
   "outputs": [
    {
     "name": "stderr",
     "output_type": "stream",
     "text": [
      "C:\\Users\\hp\\AppData\\Local\\Temp\\ipykernel_8272\\3323838925.py:4: FutureWarning: A value is trying to be set on a copy of a DataFrame or Series through chained assignment using an inplace method.\n",
      "The behavior will change in pandas 3.0. This inplace method will never work because the intermediate object on which we are setting values always behaves as a copy.\n",
      "\n",
      "For example, when doing 'df[col].method(value, inplace=True)', try using 'df.method({col: value}, inplace=True)' or df[col] = df[col].method(value) instead, to perform the operation inplace on the original object.\n",
      "\n",
      "\n",
      "  zomato_df['approx_costfor_two_people'].fillna(zomato_df['approx_costfor_two_people'].median(), inplace=True)\n",
      "C:\\Users\\hp\\AppData\\Local\\Temp\\ipykernel_8272\\3323838925.py:7: FutureWarning: A value is trying to be set on a copy of a DataFrame or Series through chained assignment using an inplace method.\n",
      "The behavior will change in pandas 3.0. This inplace method will never work because the intermediate object on which we are setting values always behaves as a copy.\n",
      "\n",
      "For example, when doing 'df[col].method(value, inplace=True)', try using 'df.method({col: value}, inplace=True)' or df[col] = df[col].method(value) instead, to perform the operation inplace on the original object.\n",
      "\n",
      "\n",
      "  zomato_df['dish_liked'].fillna('Not Available', inplace=True)\n",
      "C:\\Users\\hp\\AppData\\Local\\Temp\\ipykernel_8272\\3323838925.py:8: FutureWarning: A value is trying to be set on a copy of a DataFrame or Series through chained assignment using an inplace method.\n",
      "The behavior will change in pandas 3.0. This inplace method will never work because the intermediate object on which we are setting values always behaves as a copy.\n",
      "\n",
      "For example, when doing 'df[col].method(value, inplace=True)', try using 'df.method({col: value}, inplace=True)' or df[col] = df[col].method(value) instead, to perform the operation inplace on the original object.\n",
      "\n",
      "\n",
      "  zomato_df['cuisines'].fillna('Other', inplace=True)\n",
      "C:\\Users\\hp\\AppData\\Local\\Temp\\ipykernel_8272\\3323838925.py:9: FutureWarning: A value is trying to be set on a copy of a DataFrame or Series through chained assignment using an inplace method.\n",
      "The behavior will change in pandas 3.0. This inplace method will never work because the intermediate object on which we are setting values always behaves as a copy.\n",
      "\n",
      "For example, when doing 'df[col].method(value, inplace=True)', try using 'df.method({col: value}, inplace=True)' or df[col] = df[col].method(value) instead, to perform the operation inplace on the original object.\n",
      "\n",
      "\n",
      "  zomato_df['rest_type'].fillna('Unknown', inplace=True)\n",
      "C:\\Users\\hp\\AppData\\Local\\Temp\\ipykernel_8272\\3323838925.py:10: FutureWarning: A value is trying to be set on a copy of a DataFrame or Series through chained assignment using an inplace method.\n",
      "The behavior will change in pandas 3.0. This inplace method will never work because the intermediate object on which we are setting values always behaves as a copy.\n",
      "\n",
      "For example, when doing 'df[col].method(value, inplace=True)', try using 'df.method({col: value}, inplace=True)' or df[col] = df[col].method(value) instead, to perform the operation inplace on the original object.\n",
      "\n",
      "\n",
      "  zomato_df['votes'].fillna(zomato_df['votes'].median(), inplace=True)\n"
     ]
    }
   ],
   "source": [
    "\n",
    "zomato_df['approx_costfor_two_people'] = zomato_df['approx_costfor_two_people'].astype(str).str.replace(',', '')\n",
    "zomato_df['approx_costfor_two_people'] = pd.to_numeric(zomato_df['approx_costfor_two_people'], errors='coerce')\n",
    "zomato_df['approx_costfor_two_people'].fillna(zomato_df['approx_costfor_two_people'].median(), inplace=True)\n",
    "\n",
    "zomato_df['dish_liked'].fillna('Not Available', inplace=True)\n",
    "zomato_df['cuisines'].fillna('Other', inplace=True)\n",
    "zomato_df['rest_type'].fillna('Unknown', inplace=True)\n",
    "zomato_df['votes'].fillna(zomato_df['votes'].median(), inplace=True)\n",
    "\n",
    "zomato_df['online_order'] = zomato_df['online_order'].map({'Yes': 1, 'No': 0})\n",
    "zomato_df['book_table'] = zomato_df['book_table'].map({'Yes': 1, 'No': 0})\n"
   ]
  },
  {
   "cell_type": "code",
   "execution_count": 15,
   "id": "ac8d75a5-f395-443f-ae25-627b2f1db960",
   "metadata": {},
   "outputs": [],
   "source": [
    "import pandas as pd\n",
    "import numpy as np\n",
    "\n",
    "zomato_df['rate'] = zomato_df['rate'].replace('-', np.nan)\n",
    "zomato_df['rate'] = zomato_df['rate'].astype(str).str.replace('/5', '', regex=False)\n",
    "zomato_df['rate'] = pd.to_numeric(zomato_df['rate'], errors='coerce')\n",
    "zomato_df['rate'] = zomato_df['rate'].fillna(zomato_df['rate'].median())\n",
    "\n",
    "zomato_df['approx_costfor_two_people'] = zomato_df['approx_costfor_two_people'].astype(str).str.replace(',', '')\n",
    "zomato_df['approx_costfor_two_people'] = pd.to_numeric(zomato_df['approx_costfor_two_people'], errors='coerce')\n",
    "zomato_df['approx_costfor_two_people'] = zomato_df['approx_costfor_two_people'].fillna(zomato_df['approx_costfor_two_people'].median())\n",
    "\n",
    "zomato_df['dish_liked'] = zomato_df['dish_liked'].fillna('Not Available')\n",
    "zomato_df['cuisines'] = zomato_df['cuisines'].fillna('Other')\n",
    "zomato_df['rest_type'] = zomato_df['rest_type'].fillna('Unknown')\n",
    "\n",
    "zomato_df['votes'] = zomato_df['votes'].fillna(zomato_df['votes'].median())\n",
    "\n",
    "zomato_df['online_order'] = zomato_df['online_order'].map({'Yes': 1, 'No': 0})\n",
    "zomato_df['book_table'] = zomato_df['book_table'].map({'Yes': 1, 'No': 0})\n"
   ]
  },
  {
   "cell_type": "code",
   "execution_count": 16,
   "id": "d1590d1d-1c87-49bb-bf54-98694f2b8207",
   "metadata": {},
   "outputs": [],
   "source": [
    "merged_df=pd.merge(zomato_df,geo_df,how='left',on='listed_incity')\n",
    "merged_df.dropna(subset=['Latitude','Longitude'],inplace=True)"
   ]
  },
  {
   "cell_type": "code",
   "execution_count": 18,
   "id": "11594413-20a6-49f0-aaf7-2e6d4a9b6c2b",
   "metadata": {},
   "outputs": [
    {
     "name": "stdout",
     "output_type": "stream",
     "text": [
      "<class 'pandas.core.frame.DataFrame'>\n",
      "Index: 46137 entries, 0 to 46136\n",
      "Data columns (total 12 columns):\n",
      " #   Column                     Non-Null Count  Dtype  \n",
      "---  ------                     --------------  -----  \n",
      " 0   online_order               0 non-null      float64\n",
      " 1   book_table                 0 non-null      float64\n",
      " 2   rate                       46137 non-null  float64\n",
      " 3   votes                      46137 non-null  int64  \n",
      " 4   rest_type                  46137 non-null  object \n",
      " 5   dish_liked                 46137 non-null  object \n",
      " 6   cuisines                   46137 non-null  object \n",
      " 7   approx_costfor_two_people  46137 non-null  float64\n",
      " 8   listed_intype              46137 non-null  object \n",
      " 9   listed_incity              46137 non-null  object \n",
      " 10  Latitude                   46137 non-null  float64\n",
      " 11  Longitude                  46137 non-null  float64\n",
      "dtypes: float64(6), int64(1), object(5)\n",
      "memory usage: 4.6+ MB\n"
     ]
    },
    {
     "data": {
      "image/png": "[encoded data removed]",
      "text/plain": [
       "<Figure size 1000x500 with 1 Axes>"
      ]
     },
     "metadata": {},
     "output_type": "display_data"
    },
    {
     "data": {
      "image/png": "[encoded data removed]",
      "text/plain": [
       "<Figure size 640x480 with 1 Axes>"
      ]
     },
     "metadata": {},
     "output_type": "display_data"
    }
   ],
   "source": [
    "merged_df.info()\n",
    "merged_df.describe()\n",
    "plt.figure(figsize=(10,5))\n",
    "merged_df['cuisines'].value_counts().head(10).plot(kind='barh',color='skyblue')\n",
    "plt.title(\"Top 10 Cuisines\")\n",
    "plt.xlabel(\"Number of Restaurants\")\n",
    "plt.show()\n",
    "sns.histplot(merged_df['rate'],kde=True,bins=20,color='skyblue')\n",
    "plt.title(\"Distribution of Ratings\")\n",
    "plt.xlabel(\"Rating\")\n",
    "plt.ylabel(\"Frequency\")\n",
    "plt.show()"
   ]
  },
  {
   "cell_type": "code",
   "execution_count": 19,
   "id": "f75e8f91-fa4e-4966-8b10-3997433a5f45",
   "metadata": {},
   "outputs": [
    {
     "data": {
      "text/html": [
       "\n",
       "        <iframe\n",
       "            width=\"800\"\n",
       "            height=\"500\"\n",
       "            src=\"italian_restaurants.html\"\n",
       "            frameborder=\"0\"\n",
       "            allowfullscreen\n",
       "            \n",
       "        ></iframe>\n",
       "        "
      ],
      "text/plain": [
       "<IPython.lib.display.IFrame at 0x1ecd7b79280>"
      ]
     },
     "execution_count": 19,
     "metadata": {},
     "output_type": "execute_result"
    }
   ],
   "source": [
    "#Task 2\n",
    "italian_df=merged_df[merged_df['cuisines'].str.contains('Italian',case=False)]\n",
    "italian_map=folium.Map(location=[12.9716,77.5946],zoom_start=12)\n",
    "marker_cluster=MarkerCluster().add_to(italian_map)\n",
    "for _, row in italian_df.iterrows():\n",
    "    popup=f\"<b>City:</b>{row['listed_incity']}<br><b>Rating:</b>{row['rate']}<br><b>Cost:</b> \\u20B9{row['approx_costfor_two_people']}\"\n",
    "    folium.Marker(\n",
    "    location=[row['Latitude'],row['Longitude']],\n",
    "    popup=popup,\n",
    "    icon=folium.Icon(color='green',icon='cutlery',prefix='fa')\n",
    "    ).add_to(marker_cluster)\n",
    "italian_map.save(\"italian_restaurants.html\")\n",
    "IFrame(\"italian_restaurants.html\",width=800, height=500)"
   ]
  },
  {
   "cell_type": "code",
   "execution_count": 21,
   "id": "a5724a08-3ea0-43c3-944e-e4678603eab8",
   "metadata": {},
   "outputs": [
    {
     "data": {
      "text/html": [
       "\n",
       "        <iframe\n",
       "            width=\"800\"\n",
       "            height=\"500\"\n",
       "            src=\"restaurant_density.html\"\n",
       "            frameborder=\"0\"\n",
       "            allowfullscreen\n",
       "            \n",
       "        ></iframe>\n",
       "        "
      ],
      "text/plain": [
       "<IPython.lib.display.IFrame at 0x1ecafda7b60>"
      ]
     },
     "execution_count": 21,
     "metadata": {},
     "output_type": "execute_result"
    }
   ],
   "source": [
    "#task 3\n",
    "restaurant_map = folium.Map(location=[12.9716, 77.5946], zoom_start=12)\n",
    "marker_cluster = MarkerCluster().add_to(restaurant_map)\n",
    "for _, row in merged_df.iterrows():\n",
    "    popup_text = f\"\"\"\n",
    "    <b>City:</b> {row['listed_incity']}<br>\n",
    "    <b>Rating:</b> {row['rate']}<br>\n",
    "    <b>Cost for Two:</b> ₹{row['approx_costfor_two_people']}\n",
    "    \"\"\"\n",
    "    folium.Marker(\n",
    "        location=[row['Latitude'], row['Longitude']],\n",
    "        popup=popup_text,\n",
    "        icon=folium.Icon(color='blue', icon='cutlery', prefix='fa')\n",
    "    ).add_to(marker_cluster)\n",
    "restaurant_map.save(\"restaurant_density.html\")\n",
    "IFrame(\"restaurant_density.html\", width=800, height=500)"
   ]
  },
  {
   "cell_type": "code",
   "execution_count": 22,
   "id": "d3431776-f428-4146-8357-92fb509ff3e5",
   "metadata": {},
   "outputs": [],
   "source": [
    "import pandas as pd\n",
    "import numpy as np\n",
    "import matplotlib.pyplot as plt\n",
    "import seaborn as sns"
   ]
  },
  {
   "cell_type": "code",
   "execution_count": 23,
   "id": "501a0027-6104-4b7f-90e7-58ffe8401780",
   "metadata": {},
   "outputs": [],
   "source": [
    "df = pd.read_csv(r'C:\\Users\\hp\\Downloads\\zomato_data.csv')"
   ]
  },
  {
   "cell_type": "code",
   "execution_count": 24,
   "id": "ab052ae8-c647-430b-96c5-7fc1081a837b",
   "metadata": {},
   "outputs": [
    {
     "data": {
      "text/html": [
       "<div>\n",
       "<style scoped>\n",
       "    .dataframe tbody tr th:only-of-type {\n",
       "        vertical-align: middle;\n",
       "    }\n",
       "\n",
       "    .dataframe tbody tr th {\n",
       "        vertical-align: top;\n",
       "    }\n",
       "\n",
       "    .dataframe thead th {\n",
       "        text-align: right;\n",
       "    }\n",
       "</style>\n",
       "<table border=\"1\" class=\"dataframe\">\n",
       "  <thead>\n",
       "    <tr style=\"text-align: right;\">\n",
       "      <th></th>\n",
       "      <th>online_order</th>\n",
       "      <th>book_table</th>\n",
       "      <th>rate</th>\n",
       "      <th>votes</th>\n",
       "      <th>rest_type</th>\n",
       "      <th>dish_liked</th>\n",
       "      <th>cuisines</th>\n",
       "      <th>approx_costfor_two_people</th>\n",
       "      <th>listed_intype</th>\n",
       "      <th>listed_incity</th>\n",
       "    </tr>\n",
       "  </thead>\n",
       "  <tbody>\n",
       "    <tr>\n",
       "      <th>0</th>\n",
       "      <td>Yes</td>\n",
       "      <td>Yes</td>\n",
       "      <td>4.1/5</td>\n",
       "      <td>775</td>\n",
       "      <td>Casual Dining</td>\n",
       "      <td>Pasta, Lunch Buffet, Masala Papad, Paneer Laja...</td>\n",
       "      <td>North Indian, Mughlai, Chinese</td>\n",
       "      <td>800</td>\n",
       "      <td>Buffet</td>\n",
       "      <td>Banashankari</td>\n",
       "    </tr>\n",
       "    <tr>\n",
       "      <th>1</th>\n",
       "      <td>Yes</td>\n",
       "      <td>No</td>\n",
       "      <td>4.1/5</td>\n",
       "      <td>787</td>\n",
       "      <td>Casual Dining</td>\n",
       "      <td>Momos, Lunch Buffet, Chocolate Nirvana, Thai G...</td>\n",
       "      <td>Chinese, North Indian, Thai</td>\n",
       "      <td>800</td>\n",
       "      <td>Buffet</td>\n",
       "      <td>Banashankari</td>\n",
       "    </tr>\n",
       "    <tr>\n",
       "      <th>2</th>\n",
       "      <td>Yes</td>\n",
       "      <td>No</td>\n",
       "      <td>3.8/5</td>\n",
       "      <td>918</td>\n",
       "      <td>Cafe, Casual Dining</td>\n",
       "      <td>Churros, Cannelloni, Minestrone Soup, Hot Choc...</td>\n",
       "      <td>Cafe, Mexican, Italian</td>\n",
       "      <td>800</td>\n",
       "      <td>Buffet</td>\n",
       "      <td>Banashankari</td>\n",
       "    </tr>\n",
       "    <tr>\n",
       "      <th>3</th>\n",
       "      <td>No</td>\n",
       "      <td>No</td>\n",
       "      <td>3.7/5</td>\n",
       "      <td>88</td>\n",
       "      <td>Quick Bites</td>\n",
       "      <td>Masala Dosa</td>\n",
       "      <td>South Indian, North Indian</td>\n",
       "      <td>300</td>\n",
       "      <td>Buffet</td>\n",
       "      <td>Banashankari</td>\n",
       "    </tr>\n",
       "    <tr>\n",
       "      <th>4</th>\n",
       "      <td>No</td>\n",
       "      <td>No</td>\n",
       "      <td>3.8/5</td>\n",
       "      <td>166</td>\n",
       "      <td>Casual Dining</td>\n",
       "      <td>Panipuri, Gol Gappe</td>\n",
       "      <td>North Indian, Rajasthani</td>\n",
       "      <td>600</td>\n",
       "      <td>Buffet</td>\n",
       "      <td>Banashankari</td>\n",
       "    </tr>\n",
       "  </tbody>\n",
       "</table>\n",
       "</div>"
      ],
      "text/plain": [
       "  online_order book_table   rate  votes            rest_type  \\\n",
       "0          Yes        Yes  4.1/5    775        Casual Dining   \n",
       "1          Yes         No  4.1/5    787        Casual Dining   \n",
       "2          Yes         No  3.8/5    918  Cafe, Casual Dining   \n",
       "3           No         No  3.7/5     88          Quick Bites   \n",
       "4           No         No  3.8/5    166        Casual Dining   \n",
       "\n",
       "                                          dish_liked  \\\n",
       "0  Pasta, Lunch Buffet, Masala Papad, Paneer Laja...   \n",
       "1  Momos, Lunch Buffet, Chocolate Nirvana, Thai G...   \n",
       "2  Churros, Cannelloni, Minestrone Soup, Hot Choc...   \n",
       "3                                        Masala Dosa   \n",
       "4                                Panipuri, Gol Gappe   \n",
       "\n",
       "                         cuisines approx_costfor_two_people listed_intype  \\\n",
       "0  North Indian, Mughlai, Chinese                       800        Buffet   \n",
       "1     Chinese, North Indian, Thai                       800        Buffet   \n",
       "2          Cafe, Mexican, Italian                       800        Buffet   \n",
       "3      South Indian, North Indian                       300        Buffet   \n",
       "4        North Indian, Rajasthani                       600        Buffet   \n",
       "\n",
       "  listed_incity  \n",
       "0  Banashankari  \n",
       "1  Banashankari  \n",
       "2  Banashankari  \n",
       "3  Banashankari  \n",
       "4  Banashankari  "
      ]
     },
     "execution_count": 24,
     "metadata": {},
     "output_type": "execute_result"
    }
   ],
   "source": [
    "df.head()"
   ]
  },
  {
   "cell_type": "code",
   "execution_count": 25,
   "id": "3fd41acb-6704-4bde-afe2-941424f6a5d6",
   "metadata": {},
   "outputs": [
    {
     "data": {
      "text/plain": [
       "online_order                     0\n",
       "book_table                       0\n",
       "rate                          7775\n",
       "votes                            0\n",
       "rest_type                      227\n",
       "dish_liked                   28078\n",
       "cuisines                        45\n",
       "approx_costfor_two_people      346\n",
       "listed_intype                    0\n",
       "listed_incity                    0\n",
       "dtype: int64"
      ]
     },
     "execution_count": 25,
     "metadata": {},
     "output_type": "execute_result"
    }
   ],
   "source": [
    "df.isnull().sum()"
   ]
  },
  {
   "cell_type": "code",
   "execution_count": 27,
   "id": "70014a38-7e2d-48ce-9e48-fcf2cefaf453",
   "metadata": {},
   "outputs": [
    {
     "ename": "AttributeError",
     "evalue": "Can only use .str accessor with string values!",
     "output_type": "error",
     "traceback": [
      "\u001b[1;31m---------------------------------------------------------------------------\u001b[0m",
      "\u001b[1;31mAttributeError\u001b[0m                            Traceback (most recent call last)",
      "Cell \u001b[1;32mIn[27], line 1\u001b[0m\n\u001b[1;32m----> 1\u001b[0m df[\u001b[38;5;124m'\u001b[39m\u001b[38;5;124mrate\u001b[39m\u001b[38;5;124m'\u001b[39m] \u001b[38;5;241m=\u001b[39m pd\u001b[38;5;241m.\u001b[39mto_numeric(\u001b[43mdf\u001b[49m\u001b[43m[\u001b[49m\u001b[38;5;124;43m'\u001b[39;49m\u001b[38;5;124;43mrate\u001b[39;49m\u001b[38;5;124;43m'\u001b[39;49m\u001b[43m]\u001b[49m\u001b[38;5;241;43m.\u001b[39;49m\u001b[43mstr\u001b[49m\u001b[38;5;241m.\u001b[39msplit(\u001b[38;5;124m'\u001b[39m\u001b[38;5;124m/\u001b[39m\u001b[38;5;124m'\u001b[39m)\u001b[38;5;241m.\u001b[39mstr[\u001b[38;5;241m0\u001b[39m], errors\u001b[38;5;241m=\u001b[39m\u001b[38;5;124m'\u001b[39m\u001b[38;5;124mcoerce\u001b[39m\u001b[38;5;124m'\u001b[39m)\n",
      "File \u001b[1;32m~\\AppData\\Local\\Programs\\Python\\Python312\\Lib\\site-packages\\pandas\\core\\generic.py:6299\u001b[0m, in \u001b[0;36mNDFrame.__getattr__\u001b[1;34m(self, name)\u001b[0m\n\u001b[0;32m   6292\u001b[0m \u001b[38;5;28;01mif\u001b[39;00m (\n\u001b[0;32m   6293\u001b[0m     name \u001b[38;5;129;01mnot\u001b[39;00m \u001b[38;5;129;01min\u001b[39;00m \u001b[38;5;28mself\u001b[39m\u001b[38;5;241m.\u001b[39m_internal_names_set\n\u001b[0;32m   6294\u001b[0m     \u001b[38;5;129;01mand\u001b[39;00m name \u001b[38;5;129;01mnot\u001b[39;00m \u001b[38;5;129;01min\u001b[39;00m \u001b[38;5;28mself\u001b[39m\u001b[38;5;241m.\u001b[39m_metadata\n\u001b[0;32m   6295\u001b[0m     \u001b[38;5;129;01mand\u001b[39;00m name \u001b[38;5;129;01mnot\u001b[39;00m \u001b[38;5;129;01min\u001b[39;00m \u001b[38;5;28mself\u001b[39m\u001b[38;5;241m.\u001b[39m_accessors\n\u001b[0;32m   6296\u001b[0m     \u001b[38;5;129;01mand\u001b[39;00m \u001b[38;5;28mself\u001b[39m\u001b[38;5;241m.\u001b[39m_info_axis\u001b[38;5;241m.\u001b[39m_can_hold_identifiers_and_holds_name(name)\n\u001b[0;32m   6297\u001b[0m ):\n\u001b[0;32m   6298\u001b[0m     \u001b[38;5;28;01mreturn\u001b[39;00m \u001b[38;5;28mself\u001b[39m[name]\n\u001b[1;32m-> 6299\u001b[0m \u001b[38;5;28;01mreturn\u001b[39;00m \u001b[38;5;28;43mobject\u001b[39;49m\u001b[38;5;241;43m.\u001b[39;49m\u001b[38;5;21;43m__getattribute__\u001b[39;49m\u001b[43m(\u001b[49m\u001b[38;5;28;43mself\u001b[39;49m\u001b[43m,\u001b[49m\u001b[43m \u001b[49m\u001b[43mname\u001b[49m\u001b[43m)\u001b[49m\n",
      "File \u001b[1;32m~\\AppData\\Local\\Programs\\Python\\Python312\\Lib\\site-packages\\pandas\\core\\accessor.py:224\u001b[0m, in \u001b[0;36mCachedAccessor.__get__\u001b[1;34m(self, obj, cls)\u001b[0m\n\u001b[0;32m    221\u001b[0m \u001b[38;5;28;01mif\u001b[39;00m obj \u001b[38;5;129;01mis\u001b[39;00m \u001b[38;5;28;01mNone\u001b[39;00m:\n\u001b[0;32m    222\u001b[0m     \u001b[38;5;66;03m# we're accessing the attribute of the class, i.e., Dataset.geo\u001b[39;00m\n\u001b[0;32m    223\u001b[0m     \u001b[38;5;28;01mreturn\u001b[39;00m \u001b[38;5;28mself\u001b[39m\u001b[38;5;241m.\u001b[39m_accessor\n\u001b[1;32m--> 224\u001b[0m accessor_obj \u001b[38;5;241m=\u001b[39m \u001b[38;5;28;43mself\u001b[39;49m\u001b[38;5;241;43m.\u001b[39;49m\u001b[43m_accessor\u001b[49m\u001b[43m(\u001b[49m\u001b[43mobj\u001b[49m\u001b[43m)\u001b[49m\n\u001b[0;32m    225\u001b[0m \u001b[38;5;66;03m# Replace the property with the accessor object. Inspired by:\u001b[39;00m\n\u001b[0;32m    226\u001b[0m \u001b[38;5;66;03m# https://www.pydanny.com/cached-property.html\u001b[39;00m\n\u001b[0;32m    227\u001b[0m \u001b[38;5;66;03m# We need to use object.__setattr__ because we overwrite __setattr__ on\u001b[39;00m\n\u001b[0;32m    228\u001b[0m \u001b[38;5;66;03m# NDFrame\u001b[39;00m\n\u001b[0;32m    229\u001b[0m \u001b[38;5;28mobject\u001b[39m\u001b[38;5;241m.\u001b[39m\u001b[38;5;21m__setattr__\u001b[39m(obj, \u001b[38;5;28mself\u001b[39m\u001b[38;5;241m.\u001b[39m_name, accessor_obj)\n",
      "File \u001b[1;32m~\\AppData\\Local\\Programs\\Python\\Python312\\Lib\\site-packages\\pandas\\core\\strings\\accessor.py:191\u001b[0m, in \u001b[0;36mStringMethods.__init__\u001b[1;34m(self, data)\u001b[0m\n\u001b[0;32m    188\u001b[0m \u001b[38;5;28;01mdef\u001b[39;00m \u001b[38;5;21m__init__\u001b[39m(\u001b[38;5;28mself\u001b[39m, data) \u001b[38;5;241m-\u001b[39m\u001b[38;5;241m>\u001b[39m \u001b[38;5;28;01mNone\u001b[39;00m:\n\u001b[0;32m    189\u001b[0m     \u001b[38;5;28;01mfrom\u001b[39;00m \u001b[38;5;21;01mpandas\u001b[39;00m\u001b[38;5;21;01m.\u001b[39;00m\u001b[38;5;21;01mcore\u001b[39;00m\u001b[38;5;21;01m.\u001b[39;00m\u001b[38;5;21;01marrays\u001b[39;00m\u001b[38;5;21;01m.\u001b[39;00m\u001b[38;5;21;01mstring_\u001b[39;00m \u001b[38;5;28;01mimport\u001b[39;00m StringDtype\n\u001b[1;32m--> 191\u001b[0m     \u001b[38;5;28mself\u001b[39m\u001b[38;5;241m.\u001b[39m_inferred_dtype \u001b[38;5;241m=\u001b[39m \u001b[38;5;28;43mself\u001b[39;49m\u001b[38;5;241;43m.\u001b[39;49m\u001b[43m_validate\u001b[49m\u001b[43m(\u001b[49m\u001b[43mdata\u001b[49m\u001b[43m)\u001b[49m\n\u001b[0;32m    192\u001b[0m     \u001b[38;5;28mself\u001b[39m\u001b[38;5;241m.\u001b[39m_is_categorical \u001b[38;5;241m=\u001b[39m \u001b[38;5;28misinstance\u001b[39m(data\u001b[38;5;241m.\u001b[39mdtype, CategoricalDtype)\n\u001b[0;32m    193\u001b[0m     \u001b[38;5;28mself\u001b[39m\u001b[38;5;241m.\u001b[39m_is_string \u001b[38;5;241m=\u001b[39m \u001b[38;5;28misinstance\u001b[39m(data\u001b[38;5;241m.\u001b[39mdtype, StringDtype)\n",
      "File \u001b[1;32m~\\AppData\\Local\\Programs\\Python\\Python312\\Lib\\site-packages\\pandas\\core\\strings\\accessor.py:245\u001b[0m, in \u001b[0;36mStringMethods._validate\u001b[1;34m(data)\u001b[0m\n\u001b[0;32m    242\u001b[0m inferred_dtype \u001b[38;5;241m=\u001b[39m lib\u001b[38;5;241m.\u001b[39minfer_dtype(values, skipna\u001b[38;5;241m=\u001b[39m\u001b[38;5;28;01mTrue\u001b[39;00m)\n\u001b[0;32m    244\u001b[0m \u001b[38;5;28;01mif\u001b[39;00m inferred_dtype \u001b[38;5;129;01mnot\u001b[39;00m \u001b[38;5;129;01min\u001b[39;00m allowed_types:\n\u001b[1;32m--> 245\u001b[0m     \u001b[38;5;28;01mraise\u001b[39;00m \u001b[38;5;167;01mAttributeError\u001b[39;00m(\u001b[38;5;124m\"\u001b[39m\u001b[38;5;124mCan only use .str accessor with string values!\u001b[39m\u001b[38;5;124m\"\u001b[39m)\n\u001b[0;32m    246\u001b[0m \u001b[38;5;28;01mreturn\u001b[39;00m inferred_dtype\n",
      "\u001b[1;31mAttributeError\u001b[0m: Can only use .str accessor with string values!"
     ]
    }
   ],
   "source": [
    "df['rate'] = pd.to_numeric(df['rate'].str.split('/').str[0], errors='coerce')"
   ]
  },
  {
   "cell_type": "code",
   "execution_count": 28,
   "id": "160d509f-5956-44eb-80cb-aa3c67c67703",
   "metadata": {},
   "outputs": [],
   "source": [
    "df['rate'] = pd.to_numeric(df['rate'].astype(str).str.split('/').str[0], errors='coerce')\n"
   ]
  },
  {
   "cell_type": "code",
   "execution_count": 29,
   "id": "4534f74d-94af-4461-95b4-164911d93e53",
   "metadata": {},
   "outputs": [],
   "source": [
    "df['rate'] = df['rate'].fillna(df['rate'].median())\n"
   ]
  },
  {
   "cell_type": "code",
   "execution_count": 30,
   "id": "7cf5d2bf-2db9-45fe-89ee-8fedd6c10d89",
   "metadata": {},
   "outputs": [],
   "source": [
    "df = df.dropna(thresh=len(df.columns)-2)  "
   ]
  },
  {
   "cell_type": "code",
   "execution_count": 31,
   "id": "75538238-eb84-4253-adda-cde3d15d3445",
   "metadata": {},
   "outputs": [
    {
     "name": "stdout",
     "output_type": "stream",
     "text": [
      "<class 'pandas.core.frame.DataFrame'>\n",
      "Index: 51691 entries, 0 to 51716\n",
      "Data columns (total 10 columns):\n",
      " #   Column                     Non-Null Count  Dtype  \n",
      "---  ------                     --------------  -----  \n",
      " 0   online_order               51691 non-null  object \n",
      " 1   book_table                 51691 non-null  object \n",
      " 2   rate                       51691 non-null  float64\n",
      " 3   votes                      51691 non-null  int64  \n",
      " 4   rest_type                  51485 non-null  object \n",
      " 5   dish_liked                 23639 non-null  object \n",
      " 6   cuisines                   51672 non-null  object \n",
      " 7   approx_costfor_two_people  51371 non-null  object \n",
      " 8   listed_intype              51691 non-null  object \n",
      " 9   listed_incity              51691 non-null  object \n",
      "dtypes: float64(1), int64(1), object(8)\n",
      "memory usage: 4.3+ MB\n"
     ]
    }
   ],
   "source": [
    "df.describe()\n",
    "df.info()\n"
   ]
  },
  {
   "cell_type": "code",
   "execution_count": 32,
   "id": "9ccfa607-0f63-4955-9800-fccce8cd501a",
   "metadata": {},
   "outputs": [
    {
     "data": {
      "text/plain": [
       "cuisines\n",
       "North Indian                                   2913\n",
       "North Indian, Chinese                          2385\n",
       "South Indian                                   1828\n",
       "Biryani                                         918\n",
       "Bakery, Desserts                                911\n",
       "                                               ... \n",
       "North Indian, Chinese, South Indian, Juices       1\n",
       "North Indian, Chinese, Kebab, Mughlai             1\n",
       "Chinese, Vietnamese, Thai, Malaysian              1\n",
       "Arabian, Lebanese, Chinese, Rolls                 1\n",
       "North Indian, Chinese, Arabian, Momos             1\n",
       "Name: count, Length: 2723, dtype: int64"
      ]
     },
     "execution_count": 32,
     "metadata": {},
     "output_type": "execute_result"
    }
   ],
   "source": [
    "df['rest_type'].value_counts()\n",
    "df['cuisines'].value_counts()"
   ]
  },
  {
   "cell_type": "code",
   "execution_count": 33,
   "id": "b49d3991-3111-4ffe-a981-32f81b7d55a7",
   "metadata": {},
   "outputs": [
    {
     "ename": "TypeError",
     "evalue": "'tuple' object is not callable",
     "output_type": "error",
     "traceback": [
      "\u001b[1;31m---------------------------------------------------------------------------\u001b[0m",
      "\u001b[1;31mTypeError\u001b[0m                                 Traceback (most recent call last)",
      "Cell \u001b[1;32mIn[33], line 1\u001b[0m\n\u001b[1;32m----> 1\u001b[0m \u001b[43mdf\u001b[49m\u001b[38;5;241;43m.\u001b[39;49m\u001b[43mshape\u001b[49m\u001b[43m(\u001b[49m\u001b[43m)\u001b[49m\n",
      "\u001b[1;31mTypeError\u001b[0m: 'tuple' object is not callable"
     ]
    }
   ],
   "source": [
    "df.shape()"
   ]
  },
  {
   "cell_type": "code",
   "execution_count": 34,
   "id": "45647106-b9f2-486a-97c1-95923d1d2289",
   "metadata": {},
   "outputs": [
    {
     "data": {
      "text/plain": [
       "(51691, 10)"
      ]
     },
     "execution_count": 34,
     "metadata": {},
     "output_type": "execute_result"
    }
   ],
   "source": [
    "df.shape\n"
   ]
  },
  {
   "cell_type": "code",
   "execution_count": 36,
   "id": "ae08a740-8a63-4cc3-adcc-06711ea0c573",
   "metadata": {},
   "outputs": [
    {
     "data": {
      "image/png": "[encoded data removed]",
      "text/plain": [
       "<Figure size 1000x600 with 1 Axes>"
      ]
     },
     "metadata": {},
     "output_type": "display_data"
    }
   ],
   "source": [
    "df['rate'].plot(kind='hist', bins=30, figsize=(10,6))\n",
    "plt.title('Distribution of Rate')\n",
    "plt.xlabel('Rate')\n",
    "plt.show()"
   ]
  },
  {
   "cell_type": "code",
   "execution_count": 37,
   "id": "8fe64640-c47b-4bcb-80df-d1313ce2f358",
   "metadata": {},
   "outputs": [
    {
     "data": {
      "text/plain": [
       "(51691, 10)"
      ]
     },
     "execution_count": 37,
     "metadata": {},
     "output_type": "execute_result"
    }
   ],
   "source": [
    "df.shape"
   ]
  },
  {
   "cell_type": "code",
   "execution_count": 38,
   "id": "6f4d5bf2-e92f-4091-92e1-5ebada0177b9",
   "metadata": {},
   "outputs": [
    {
     "data": {
      "text/plain": [
       "21085"
      ]
     },
     "execution_count": 38,
     "metadata": {},
     "output_type": "execute_result"
    }
   ],
   "source": [
    "df[df['cuisines'].str.contains('North Indian', na=False)].shape[0]"
   ]
  },
  {
   "cell_type": "code",
   "execution_count": 39,
   "id": "27cbc4fc-3725-4b93-b65c-e7c6537de3b4",
   "metadata": {},
   "outputs": [
    {
     "data": {
      "text/plain": [
       "cuisines\n",
       "North Indian    2913\n",
       "Name: count, dtype: int64"
      ]
     },
     "execution_count": 39,
     "metadata": {},
     "output_type": "execute_result"
    }
   ],
   "source": [
    "df['cuisines'].value_counts().head(1)"
   ]
  },
  {
   "cell_type": "code",
   "execution_count": 40,
   "id": "a63fb490-0df0-41cf-8747-c8ad8767e7da",
   "metadata": {},
   "outputs": [],
   "source": [
    "df['approx_costfor_two_people'] = pd.to_numeric(df['approx_costfor_two_people'], errors='coerce')"
   ]
  },
  {
   "cell_type": "code",
   "execution_count": 41,
   "id": "4759dc04-4ed1-4a35-b6a3-3f1ba7dda53d",
   "metadata": {},
   "outputs": [
    {
     "data": {
      "text/plain": [
       "'Brigade Road'"
      ]
     },
     "execution_count": 41,
     "metadata": {},
     "output_type": "execute_result"
    }
   ],
   "source": [
    "df.groupby('listed_incity')['approx_costfor_two_people'].mean().idxmax()\n"
   ]
  },
  {
   "cell_type": "code",
   "execution_count": 42,
   "id": "35d6f544-9d25-44eb-b795-71bdd5ed0157",
   "metadata": {},
   "outputs": [
    {
     "name": "stdout",
     "output_type": "stream",
     "text": [
      "listed_incity\n",
      "Banashankari     380.522619\n",
      "Church Street    428.493789\n",
      "Indiranagar      424.781122\n",
      "Whitefield       423.994211\n",
      "Name: approx_costfor_two_people, dtype: float64\n"
     ]
    }
   ],
   "source": [
    "\n",
    "localities = ['Banashankari', 'Church Street', 'Indiranagar', 'Whitefield']\n",
    "df_filtered = df[df['listed_incity'].isin(localities)]\n",
    "\n",
    "\n",
    "avg_cost_localities = df_filtered.groupby('listed_incity')['approx_costfor_two_people'].mean()\n",
    "print(avg_cost_localities)\n"
   ]
  },
  {
   "cell_type": "code",
   "execution_count": 43,
   "id": "f81a3144-6cf0-4958-a51e-f0d32f8cb16f",
   "metadata": {},
   "outputs": [
    {
     "name": "stderr",
     "output_type": "stream",
     "text": [
      "C:\\Users\\hp\\AppData\\Local\\Temp\\ipykernel_8272\\2979979012.py:1: UserWarning: Boolean Series key will be reindexed to match DataFrame index.\n",
      "  df[df['votes'] > 1000][df['rate'].astype(float) > 4].groupby('rest_type').size().idxmax()\n"
     ]
    },
    {
     "data": {
      "text/plain": [
       "'Casual Dining'"
      ]
     },
     "execution_count": 43,
     "metadata": {},
     "output_type": "execute_result"
    }
   ],
   "source": [
    "df[df['votes'] > 1000][df['rate'].astype(float) > 4].groupby('rest_type').size().idxmax()"
   ]
  },
  {
   "cell_type": "code",
   "execution_count": 44,
   "id": "d9a0cf01-10a9-4b32-b233-c1c7b1d1fa97",
   "metadata": {},
   "outputs": [
    {
     "data": {
      "text/plain": [
       "40.0"
      ]
     },
     "execution_count": 44,
     "metadata": {},
     "output_type": "execute_result"
    }
   ],
   "source": [
    "df['approx_costfor_two_people'].min()"
   ]
  },
  {
   "cell_type": "code",
   "execution_count": 45,
   "id": "e22fe9c9-5dee-4f8f-a97a-930415c75c8e",
   "metadata": {},
   "outputs": [
    {
     "name": "stdout",
     "output_type": "stream",
     "text": [
      "The minimum cost for two people is: ₹40\n"
     ]
    }
   ],
   "source": [
    "\n",
    "df['approx_costfor_two_people'] = pd.to_numeric(df['approx_costfor_two_people'], errors='coerce')\n",
    "\n",
    "\n",
    "df_cleaned = df.dropna(subset=['approx_costfor_two_people'])\n",
    "\n",
    "\n",
    "min_cost = df_cleaned['approx_costfor_two_people'].min()\n",
    "print(f\"The minimum cost for two people is: ₹{int(min_cost)}\")\n"
   ]
  },
  {
   "cell_type": "code",
   "execution_count": 46,
   "id": "b82ea545-7afd-4161-bf50-8d5f8038a143",
   "metadata": {},
   "outputs": [
    {
     "data": {
      "text/plain": [
       "approx_costfor_two_people\n",
       "40.0        8\n",
       "50.0        8\n",
       "60.0        1\n",
       "70.0        3\n",
       "80.0       10\n",
       "100.0     993\n",
       "120.0      24\n",
       "130.0       8\n",
       "140.0       2\n",
       "150.0    2066\n",
       "Name: count, dtype: int64"
      ]
     },
     "execution_count": 46,
     "metadata": {},
     "output_type": "execute_result"
    }
   ],
   "source": [
    "\n",
    "df_cleaned['approx_costfor_two_people'].value_counts().sort_index().head(10)"
   ]
  },
  {
   "cell_type": "code",
   "execution_count": 47,
   "id": "f3e39371-9abd-4737-a65b-07f0211c0630",
   "metadata": {},
   "outputs": [
    {
     "data": {
      "text/plain": [
       "63.26767091541136"
      ]
     },
     "execution_count": 47,
     "metadata": {},
     "output_type": "execute_result"
    }
   ],
   "source": [
    "banashankari_orders = df[df['listed_incity'] == 'Banashankari']['online_order'].value_counts(normalize=True)['Yes'] * 100\n",
    "banashankari_orders\n"
   ]
  },
  {
   "cell_type": "code",
   "execution_count": 48,
   "id": "5663eb12-1f3b-4fc9-8cc6-f6572ced84de",
   "metadata": {},
   "outputs": [
    {
     "name": "stdout",
     "output_type": "stream",
     "text": [
      "Banashankari online order percentage: 1.94%\n"
     ]
    }
   ],
   "source": [
    "\n",
    "online_orders = df_cleaned[df_cleaned['online_order'] == 'Yes']\n",
    "\n",
    "\n",
    "banashankari_orders = online_orders[online_orders['listed_incity'] == 'Banashankari']\n",
    "\n",
    "\n",
    "percentage = (len(banashankari_orders) / len(online_orders)) * 100\n",
    "print(f\"Banashankari online order percentage: {percentage:.2f}%\")"
   ]
  },
  {
   "cell_type": "code",
   "execution_count": 49,
   "id": "de0c416b-9d92-4cfe-b588-b6e16d2b101c",
   "metadata": {},
   "outputs": [
    {
     "name": "stdout",
     "output_type": "stream",
     "text": [
      "Percentage of Banashankari restaurants with online ordering: 63.27%\n"
     ]
    }
   ],
   "source": [
    "\n",
    "ban_df = df[df['listed_incity'] == 'Banashankari']\n",
    "\n",
    "\n",
    "ban_online_pct = (\n",
    "    ban_df['online_order']\n",
    "      .value_counts(normalize=True)  # fraction of Yes vs No\n",
    "      .get('Yes', 0) * 100           # percentage of 'Yes'\n",
    ")\n",
    "\n",
    "print(f\"Percentage of Banashankari restaurants with online ordering: {ban_online_pct:.2f}%\")\n"
   ]
  },
  {
   "cell_type": "code",
   "execution_count": 50,
   "id": "aa36153b-c39a-483b-ba10-87175105429e",
   "metadata": {},
   "outputs": [
    {
     "data": {
      "text/plain": [
       "'Brookefield'"
      ]
     },
     "execution_count": 50,
     "metadata": {},
     "output_type": "execute_result"
    }
   ],
   "source": [
    "df[(df['votes'] > 500) & (df['rate'].astype(float) < 3.0)].groupby('listed_incity').size().idxmax()\n"
   ]
  },
  {
   "cell_type": "code",
   "execution_count": 51,
   "id": "b8295b44-efe5-4a64-b6b2-b82b32f3ef0f",
   "metadata": {},
   "outputs": [
    {
     "data": {
      "text/plain": [
       "'BTM'"
      ]
     },
     "execution_count": 51,
     "metadata": {},
     "output_type": "execute_result"
    }
   ],
   "source": [
    "df.groupby('listed_incity')['rest_type'].nunique().idxmax()"
   ]
  },
  {
   "cell_type": "code",
   "execution_count": 52,
   "id": "1faa4b71-378e-4c1c-8fb0-2ac81cd3594b",
   "metadata": {},
   "outputs": [
    {
     "data": {
      "text/plain": [
       "nan"
      ]
     },
     "execution_count": 52,
     "metadata": {},
     "output_type": "execute_result"
    }
   ],
   "source": [
    "buffet_cost = df[df['rest_type'].str.contains('Buffet', na=False)]['approx_costfor_two_people'].mean()\n",
    "delivery_cost = df[df['rest_type'].str.contains('Delivery', na=False)]['approx_costfor_two_people'].mean()\n",
    "buffet_cost - delivery_cost"
   ]
  },
  {
   "cell_type": "code",
   "execution_count": 53,
   "id": "5d3b1598-441d-4385-844e-e44cf0b3e660",
   "metadata": {},
   "outputs": [
    {
     "name": "stdout",
     "output_type": "stream",
     "text": [
      "Avg cost (Buffet): ₹nan\n",
      "Avg cost (Delivery): ₹410.02\n",
      "Difference:      ₹nan\n"
     ]
    }
   ],
   "source": [
    "\n",
    "df['approx_costfor_two_people'] = pd.to_numeric(df['approx_costfor_two_people'], errors='coerce')\n",
    "\n",
    "\n",
    "df_clean = df.dropna(subset=['approx_costfor_two_people'])\n",
    "\n",
    "\n",
    "buffet_mean = df_clean[\n",
    "    df_clean['rest_type'].str.contains('Buffet', na=False)\n",
    "]['approx_costfor_two_people'].mean()\n",
    "\n",
    "\n",
    "delivery_mean = df_clean[\n",
    "    df_clean['rest_type'].str.contains('Delivery', na=False)\n",
    "]['approx_costfor_two_people'].mean()\n",
    "\n",
    "\n",
    "cost_diff = buffet_mean - delivery_mean\n",
    "\n",
    "print(f\"Avg cost (Buffet): ₹{buffet_mean:.2f}\")\n",
    "print(f\"Avg cost (Delivery): ₹{delivery_mean:.2f}\")\n",
    "print(f\"Difference:      ₹{cost_diff:.2f}\")"
   ]
  },
  {
   "cell_type": "code",
   "execution_count": 54,
   "id": "5f688b03-8dff-4833-b35e-09ebc66e2704",
   "metadata": {},
   "outputs": [
    {
     "name": "stdout",
     "output_type": "stream",
     "text": [
      "listed_intype\n",
      "Delivery              25933\n",
      "Dine-out              17768\n",
      "Desserts               3592\n",
      "Cafes                  1722\n",
      "Drinks & nightlife     1101\n",
      "Buffet                  878\n",
      "Pubs and bars           697\n",
      "Name: count, dtype: int64\n",
      "Avg cost (Buffet):   ₹721.40\n",
      "Avg cost (Delivery): ₹409.38\n",
      "Difference:          ₹312.02\n"
     ]
    }
   ],
   "source": [
    "\n",
    "print(df['listed_intype'].value_counts())\n",
    "\n",
    "\n",
    "buffet_mean = df_clean[df_clean['listed_intype'] == 'Buffet']['approx_costfor_two_people'].mean()\n",
    "\n",
    "\n",
    "delivery_mean = df_clean[df_clean['listed_intype'] == 'Delivery']['approx_costfor_two_people'].mean()\n",
    "\n",
    "\n",
    "cost_diff = buffet_mean - delivery_mean\n",
    "\n",
    "print(f\"Avg cost (Buffet):   ₹{buffet_mean:.2f}\")\n",
    "print(f\"Avg cost (Delivery): ₹{delivery_mean:.2f}\")\n",
    "print(f\"Difference:          ₹{cost_diff:.2f}\")\n"
   ]
  },
  {
   "cell_type": "code",
   "execution_count": 56,
   "id": "d26c1aa0-50d4-4cfb-b773-aa3a1d68b1cb",
   "metadata": {},
   "outputs": [
    {
     "data": {
      "text/plain": [
       "16832"
      ]
     },
     "execution_count": 56,
     "metadata": {},
     "output_type": "execute_result"
    }
   ],
   "source": [
    "df[df['online_order'] == 'Yes']['votes'].max()"
   ]
  },
  {
   "cell_type": "code",
   "execution_count": 57,
   "id": "c13906ec-3d59-47f8-97b5-992716993606",
   "metadata": {},
   "outputs": [
    {
     "data": {
      "text/plain": [
       "3.5919080217658412"
      ]
     },
     "execution_count": 57,
     "metadata": {},
     "output_type": "execute_result"
    }
   ],
   "source": [
    "df[(df['cuisines'].str.contains('North Indian', na=False)) & (df['cuisines'].str.contains('Chinese', na=False))]['rate'].astype(float).mean()"
   ]
  },
  {
   "cell_type": "code",
   "execution_count": 58,
   "id": "048dcb6d-4488-4d50-9fe6-5ea0c2c6e3c4",
   "metadata": {},
   "outputs": [
    {
     "data": {
      "text/plain": [
       "3.5919080217658412"
      ]
     },
     "execution_count": 58,
     "metadata": {},
     "output_type": "execute_result"
    }
   ],
   "source": [
    "df[(df['cuisines'].str.contains('North Indian', na=False)) & (df['cuisines'].str.contains('Chinese', na=False))]['rate'].astype(float).mean()"
   ]
  },
  {
   "cell_type": "code",
   "execution_count": 59,
   "id": "b34db59d-ab74-483f-8226-81bcf6e16cbe",
   "metadata": {},
   "outputs": [
    {
     "name": "stdout",
     "output_type": "stream",
     "text": [
      "listed_incity\n",
      "Bellandur                21.784936\n",
      "Brookefield              25.541825\n",
      "Koramangala 7th Block    43.045918\n",
      "Name: strike_rate, dtype: float64\n",
      "Most profitable area: Koramangala 7th Block\n"
     ]
    },
    {
     "name": "stderr",
     "output_type": "stream",
     "text": [
      "C:\\Users\\hp\\AppData\\Local\\Temp\\ipykernel_8272\\1631797278.py:10: SettingWithCopyWarning: \n",
      "A value is trying to be set on a copy of a slice from a DataFrame.\n",
      "Try using .loc[row_indexer,col_indexer] = value instead\n",
      "\n",
      "See the caveats in the documentation: https://pandas.pydata.org/pandas-docs/stable/user_guide/indexing.html#returning-a-view-versus-a-copy\n",
      "  df_clean['strike_rate'] = (df_clean['votes'] / df_clean['approx_costfor_two_people']) * 100\n"
     ]
    }
   ],
   "source": [
    "import pandas as pd\n",
    "\n",
    "\n",
    "df['approx_costfor_two_people'] = pd.to_numeric(df['approx_costfor_two_people'], errors='coerce')\n",
    "\n",
    "\n",
    "df_clean = df.dropna(subset=['approx_costfor_two_people', 'votes'])\n",
    "\n",
    "\n",
    "df_clean['strike_rate'] = (df_clean['votes'] / df_clean['approx_costfor_two_people']) * 100\n",
    "\n",
    "\n",
    "areas = ['Brookefield', 'Koramangala 8th Block', 'Koramangala 7th Block', 'Bellandur']\n",
    "sr = (\n",
    "    df_clean[df_clean['listed_incity'].isin(areas)]\n",
    "      .groupby('listed_incity')['strike_rate']\n",
    "      .mean()\n",
    ")\n",
    "\n",
    "print(sr)\n",
    "print(\"Most profitable area:\", sr.idxmax())\n"
   ]
  },
  {
   "cell_type": "code",
   "execution_count": 60,
   "id": "6a56013a-e264-4509-b98f-874d73a0d582",
   "metadata": {},
   "outputs": [
    {
     "data": {
      "text/plain": [
       "'Quick Bites'"
      ]
     },
     "execution_count": 60,
     "metadata": {},
     "output_type": "execute_result"
    }
   ],
   "source": [
    "df[df['rate'].astype(float) < 3.0]['rest_type'].value_counts().idxmax()"
   ]
  },
  {
   "cell_type": "code",
   "execution_count": 61,
   "id": "1545491e-2317-4634-855d-3c6e8d106fb2",
   "metadata": {},
   "outputs": [
    {
     "data": {
      "text/plain": [
       "'Quick Bites'"
      ]
     },
     "execution_count": 61,
     "metadata": {},
     "output_type": "execute_result"
    }
   ],
   "source": [
    "df[df['rate'].astype(float) < 3.0]['rest_type'].value_counts().idxmax()"
   ]
  },
  {
   "cell_type": "code",
   "execution_count": 62,
   "id": "d8b9145e-fe07-4f83-814e-cf900307a060",
   "metadata": {},
   "outputs": [
    {
     "data": {
      "text/plain": [
       "'Koramangala 7th Block'"
      ]
     },
     "execution_count": 62,
     "metadata": {},
     "output_type": "execute_result"
    }
   ],
   "source": [
    "df[(df['rate'].astype(float) > 4.2) & (df['votes'] > 500) & (df['online_order'] == 'Yes')]['listed_incity'].value_counts().idxmax()"
   ]
  },
  {
   "cell_type": "code",
   "execution_count": 63,
   "id": "76b9a43a-910d-4016-9a31-588eab29c842",
   "metadata": {},
   "outputs": [
    {
     "data": {
      "text/plain": [
       "'Koramangala 7th Block'"
      ]
     },
     "execution_count": 63,
     "metadata": {},
     "output_type": "execute_result"
    }
   ],
   "source": [
    "df[(df['rate'].astype(float) > 4.2) & (df['votes'] > 500) & (df['online_order'] == 'Yes')]['listed_incity'].value_counts().idxmax()"
   ]
  },
  {
   "cell_type": "code",
   "execution_count": 64,
   "id": "5399ddf2-4a90-4cfb-b455-0b09c1f6e99b",
   "metadata": {},
   "outputs": [
    {
     "data": {
      "text/plain": [
       "'Koramangala 7th Block'"
      ]
     },
     "execution_count": 64,
     "metadata": {},
     "output_type": "execute_result"
    }
   ],
   "source": [
    "df[(df['rate'].astype(float) > 4.2) & (df['votes'] > 500) & (df['online_order'] == 'Yes')]['listed_incity'].value_counts().idxmax()"
   ]
  },
  {
   "cell_type": "code",
   "execution_count": null,
   "id": "4bd15c88-abf4-4d93-a3ee-f9f52c75d751",
   "metadata": {},
   "outputs": [],
   "source": []
  }
 ],
 "metadata": {
  "kernelspec": {
   "display_name": "Python 3 (ipykernel)",
   "language": "python",
   "name": "python3"
  },
  "language_info": {
   "codemirror_mode": {
    "name": "ipython",
    "version": 3
   },
   "file_extension": ".py",
   "mimetype": "text/x-python",
   "name": "python",
   "nbconvert_exporter": "python",
   "pygments_lexer": "ipython3",
   "version": "3.12.1"
  }
 },
 "nbformat": 4,
 "nbformat_minor": 5
}
